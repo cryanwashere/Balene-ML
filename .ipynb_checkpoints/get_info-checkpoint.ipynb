{
 "cells": [
  {
   "cell_type": "code",
   "execution_count": 2,
   "metadata": {},
   "outputs": [],
   "source": [
    "from bs4 import BeautifulSoup\n",
    "import requests"
   ]
  },
  {
   "cell_type": "code",
   "execution_count": 5,
   "metadata": {},
   "outputs": [],
   "source": [
    "def get_urls():\n",
    "    with open(\"urls.txt\", \"r\") as f:\n",
    "        urls = f.read().split(\"\\n\")\n",
    "    return urls\n",
    "urls = get_urls()"
   ]
  },
  {
   "cell_type": "code",
   "execution_count": 1,
   "metadata": {},
   "outputs": [],
   "source": [
    "def page_info(url):\n",
    "    response = requests.get(url)\n",
    "    if response.status_code == 200:\n",
    "        html_content = response.text\n",
    "        soup = BeautifulSoup(html_content, 'html.parser')\n",
    "\n",
    "        for img_tag in soup.find_all('img'):\n",
    "            if 'src' in img_tag.attrs:\n",
    "                image_url = img_tag['src']\n",
    "                \n",
    "                if 'width' in img_tag.attrs:\n",
    "                    print(img_tag['width'])\n",
    "\n",
    "                print(image_url)\n"
   ]
  },
  {
   "cell_type": "code",
   "execution_count": 1,
   "metadata": {},
   "outputs": [],
   "source": [
    "def validate_datapoint(path):\n",
    "    try:\n",
    "        with open(os.path.join(\"/Volumes/easystore/Balene_DS_V1/pages\",path), \"r\") as f:\n",
    "            text = f.read()\n",
    "\n",
    "        split_data = text.split('IMAGES_DONE')\n",
    "\n",
    "        image_paths, text = split_data[0], split_data[1]\n",
    "\n",
    "        image_paths = image_paths.split('\\n')\n",
    "        image_paths = [path for path in image_paths if path != '']\n",
    "\n",
    "        # make sure that it has at least 6 images\n",
    "        if len(image_paths) < 6:\n",
    "            return False\n",
    "\n",
    "        # make sure that it has at least 512 words\n",
    "        if len(text.split(' ')) < 512:\n",
    "            return False\n",
    "    except: \n",
    "        return False\n",
    "\n",
    "    return True"
   ]
  },
  {
   "cell_type": "code",
   "execution_count": 2,
   "metadata": {},
   "outputs": [],
   "source": [
    "import os"
   ]
  },
  {
   "cell_type": "code",
   "execution_count": 5,
   "metadata": {},
   "outputs": [
    {
     "name": "stdout",
     "output_type": "stream",
     "text": [
      "/Users/cameronryan/Desktop/Balene-ML\r\n"
     ]
    }
   ],
   "source": [
    "!pwd"
   ]
  },
  {
   "cell_type": "code",
   "execution_count": 4,
   "metadata": {},
   "outputs": [
    {
     "ename": "FileNotFoundError",
     "evalue": "[Errno 2] No such file or directory: 'Desktop/Balene_DS_V1/pages'",
     "output_type": "error",
     "traceback": [
      "\u001b[0;31m---------------------------------------------------------------------------\u001b[0m",
      "\u001b[0;31mFileNotFoundError\u001b[0m                         Traceback (most recent call last)",
      "\u001b[0;32m/var/folders/16/rfz6qsbx7tz480m1h9hy_mg80000gp/T/ipykernel_3108/637610688.py\u001b[0m in \u001b[0;36m<module>\u001b[0;34m\u001b[0m\n\u001b[0;32m----> 1\u001b[0;31m \u001b[0mpaths\u001b[0m \u001b[0;34m=\u001b[0m \u001b[0mos\u001b[0m\u001b[0;34m.\u001b[0m\u001b[0mlistdir\u001b[0m\u001b[0;34m(\u001b[0m\u001b[0;34m\"Desktop/Balene_DS_V1/pages\"\u001b[0m\u001b[0;34m)\u001b[0m\u001b[0;34m\u001b[0m\u001b[0;34m\u001b[0m\u001b[0m\n\u001b[0m\u001b[1;32m      2\u001b[0m \u001b[0mlen\u001b[0m\u001b[0;34m(\u001b[0m\u001b[0mpaths\u001b[0m\u001b[0;34m)\u001b[0m\u001b[0;34m\u001b[0m\u001b[0;34m\u001b[0m\u001b[0m\n",
      "\u001b[0;31mFileNotFoundError\u001b[0m: [Errno 2] No such file or directory: 'Desktop/Balene_DS_V1/pages'"
     ]
    }
   ],
   "source": [
    "paths = os.listdir(\"/Users/cameronryan/Desktop/Balene_DS_V1/pages\")\n",
    "len(paths)"
   ]
  },
  {
   "cell_type": "code",
   "execution_count": 11,
   "metadata": {},
   "outputs": [],
   "source": [
    "from tqdm import tqdm"
   ]
  },
  {
   "cell_type": "code",
   "execution_count": 15,
   "metadata": {},
   "outputs": [
    {
     "name": "stderr",
     "output_type": "stream",
     "text": [
      "100%|███████████████████████████████████████████████████████████████████████████| 6375/6375 [02:04<00:00, 51.26it/s]\n"
     ]
    }
   ],
   "source": [
    "filtered_paths = []\n",
    "for path in tqdm(paths):\n",
    "    if validate_datapoint(path):\n",
    "        filtered_paths.append(path)"
   ]
  },
  {
   "cell_type": "code",
   "execution_count": 16,
   "metadata": {},
   "outputs": [
    {
     "data": {
      "text/plain": [
       "1696"
      ]
     },
     "execution_count": 16,
     "metadata": {},
     "output_type": "execute_result"
    }
   ],
   "source": [
    "len(filtered_paths)"
   ]
  }
 ],
 "metadata": {
  "kernelspec": {
   "display_name": "Python 3 (ipykernel)",
   "language": "python",
   "name": "python3"
  },
  "language_info": {
   "codemirror_mode": {
    "name": "ipython",
    "version": 3
   },
   "file_extension": ".py",
   "mimetype": "text/x-python",
   "name": "python",
   "nbconvert_exporter": "python",
   "pygments_lexer": "ipython3",
   "version": "3.7.9"
  }
 },
 "nbformat": 4,
 "nbformat_minor": 2
}
