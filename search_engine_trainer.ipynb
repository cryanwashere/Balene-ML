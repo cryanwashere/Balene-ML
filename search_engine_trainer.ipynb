{
 "cells": [
  {
   "cell_type": "markdown",
   "metadata": {
    "id": "TYBr4WGsgSpN"
   },
   "source": [
    "## Setup Multi-Modal model"
   ]
  },
  {
   "cell_type": "code",
   "execution_count": 11,
   "metadata": {
    "colab": {
     "base_uri": "https://localhost:8080/"
    },
    "id": "TZpIIIxHgMjn",
    "outputId": "88725c3d-7fe6-498b-98c5-491397d1afa0"
   },
   "outputs": [
    {
     "name": "stdout",
     "output_type": "stream",
     "text": [
      "Defaulting to user installation because normal site-packages is not writeable\n",
      "Requirement already satisfied: transformers in /home/ubuntu/.local/lib/python3.8/site-packages (4.29.2)\n",
      "Requirement already satisfied: huggingface-hub<1.0,>=0.14.1 in /home/ubuntu/.local/lib/python3.8/site-packages (from transformers) (0.14.1)\n",
      "Requirement already satisfied: packaging>=20.0 in /home/ubuntu/.local/lib/python3.8/site-packages (from transformers) (23.0)\n",
      "Requirement already satisfied: tokenizers!=0.11.3,<0.14,>=0.11.1 in /home/ubuntu/.local/lib/python3.8/site-packages (from transformers) (0.13.3)\n",
      "Requirement already satisfied: filelock in /usr/lib/python3/dist-packages (from transformers) (3.0.12)\n",
      "Requirement already satisfied: tqdm>=4.27 in /home/ubuntu/.local/lib/python3.8/site-packages (from transformers) (4.64.1)\n",
      "Requirement already satisfied: numpy>=1.17 in /home/ubuntu/.local/lib/python3.8/site-packages (from transformers) (1.23.5)\n",
      "Requirement already satisfied: pyyaml>=5.1 in /usr/lib/python3/dist-packages (from transformers) (5.3.1)\n",
      "Requirement already satisfied: regex!=2019.12.17 in /home/ubuntu/.local/lib/python3.8/site-packages (from transformers) (2023.5.5)\n",
      "Requirement already satisfied: requests in /home/ubuntu/.local/lib/python3.8/site-packages (from transformers) (2.28.2)\n",
      "Requirement already satisfied: fsspec in /usr/lib/python3/dist-packages (from huggingface-hub<1.0,>=0.14.1->transformers) (0.6.1)\n",
      "Requirement already satisfied: typing-extensions>=3.7.4.3 in /home/ubuntu/.local/lib/python3.8/site-packages (from huggingface-hub<1.0,>=0.14.1->transformers) (4.5.0)\n",
      "Requirement already satisfied: certifi>=2017.4.17 in /usr/lib/python3/dist-packages (from requests->transformers) (2019.11.28)\n",
      "Requirement already satisfied: urllib3<1.27,>=1.21.1 in /usr/lib/python3/dist-packages (from requests->transformers) (1.25.8)\n",
      "Requirement already satisfied: charset-normalizer<4,>=2 in /home/ubuntu/.local/lib/python3.8/site-packages (from requests->transformers) (3.1.0)\n",
      "Requirement already satisfied: idna<4,>=2.5 in /usr/lib/python3/dist-packages (from requests->transformers) (2.8)\n",
      "\n",
      "\u001b[1m[\u001b[0m\u001b[34;49mnotice\u001b[0m\u001b[1;39;49m]\u001b[0m\u001b[39;49m A new release of pip is available: \u001b[0m\u001b[31;49m23.0.1\u001b[0m\u001b[39;49m -> \u001b[0m\u001b[32;49m23.1.2\u001b[0m\n",
      "\u001b[1m[\u001b[0m\u001b[34;49mnotice\u001b[0m\u001b[1;39;49m]\u001b[0m\u001b[39;49m To update, run: \u001b[0m\u001b[32;49mpython3 -m pip install --upgrade pip\u001b[0m\n"
     ]
    }
   ],
   "source": [
    "!pip install transformers"
   ]
  },
  {
   "cell_type": "code",
   "execution_count": 12,
   "metadata": {
    "colab": {
     "base_uri": "https://localhost:8080/",
     "height": 181,
     "referenced_widgets": [
      "884d971db3a8454da5fdcbbedb65e662",
      "370f40cfda19466f841272aca9e70a94",
      "f89e6d7659f2498f9f8cc708ffb27fea",
      "55058cf13c804054b09895667bac3e56",
      "330d04210fca4d38b35a362000203494",
      "1d7fda17809e4b9e9202c551d0abe408",
      "2f34337d998d4a1ba6195fb712580fcc",
      "27661dd81cf542e1b63294fda194039c",
      "1433bbf144d042bfa60f7e2a9fddab1b",
      "87749aee4b6940dbb4b27ab53277d754",
      "7e20912a794e4989b2b56c3aa56dcdb9",
      "9d2ea907063f459599a9c9a513038b05",
      "c44c78be353c4b86a4b82ff85472ee35",
      "1d9bddb4021e44879e12b54e3c64f8ea",
      "f91e22e4af7943cc87389a2758e3d456",
      "d0f202749bb0481e9652a74931000455",
      "f21d45191cc54df29bd8311e4a2813df",
      "6e601295855f4b42a5dc18dac6bc01ad",
      "5f3f3f39425a4c90871e6a7079ea8aee",
      "401f0063d52745dfbc470e1660eebc7c",
      "e745efe46f474759b7d7604853543b71",
      "30675ba2182a43a1a181b6989155d3bf",
      "a616d78fb9d74621b7e1076645688e38",
      "6364afcd00714423afc6663335c52620",
      "659f2d7fc14d46acb0772aa071781fe9",
      "f57d50928764417cab251d4b251e9903",
      "d38cd715b02a4e8cb8281922b6dca2b8",
      "dfd8df5c87bd4a32889319a6a11c3cff",
      "c34de87e705642d0bee146c5ad0e9f52",
      "31b2258f30c441668514273f960d2a5f",
      "e167673abc8e4c749115b8dc69473541",
      "8b7051971b6d4ca59dc399926fd1ed5d",
      "d7e94cafb16e47f9aad4431fed5bb7e0"
     ]
    },
    "id": "azhYywsKEir-",
    "outputId": "9e318634-9bcd-46ce-dc65-2eec6df33a88"
   },
   "outputs": [
    {
     "data": {
      "text/plain": [
       "BertTokenizer(name_or_path='bert-base-uncased', vocab_size=30522, model_max_length=512, is_fast=False, padding_side='right', truncation_side='right', special_tokens={'unk_token': '[UNK]', 'sep_token': '[SEP]', 'pad_token': '[PAD]', 'cls_token': '[CLS]', 'mask_token': '[MASK]'}, clean_up_tokenization_spaces=True)"
      ]
     },
     "execution_count": 12,
     "metadata": {},
     "output_type": "execute_result"
    }
   ],
   "source": [
    "from transformers import BertTokenizer\n",
    "\n",
    "tokenizer = BertTokenizer.from_pretrained(\"bert-base-uncased\")\n",
    "tokenizer"
   ]
  },
  {
   "cell_type": "code",
   "execution_count": 29,
   "metadata": {
    "id": "BnKh_us1crRb"
   },
   "outputs": [],
   "source": [
    "import torch\n",
    "import torch.nn as nn\n",
    "import torch.nn.functional as F\n",
    "from PIL import Image\n",
    "import torchvision.transforms as transforms\n",
    "from torch.utils.data import Dataset\n",
    "import re\n",
    "import os\n",
    "import matplotlib.pyplot as plt\n",
    "import random\n",
    "import numpy as np\n",
    "\n",
    "from tqdm import tqdm"
   ]
  },
  {
   "cell_type": "code",
   "execution_count": 16,
   "metadata": {
    "colab": {
     "base_uri": "https://localhost:8080/"
    },
    "id": "GA1aFNJbH9nz",
    "outputId": "6c5b4bc7-8b61-40f3-c468-bd677ee466b7"
   },
   "outputs": [
    {
     "data": {
      "text/plain": [
       "device(type='cuda')"
      ]
     },
     "execution_count": 16,
     "metadata": {},
     "output_type": "execute_result"
    }
   ],
   "source": [
    "device = torch.device(\"cuda\" if torch.cuda.is_available() else \"cpu\")\n",
    "\n",
    "cpu = torch.device(\"cpu\")\n",
    "\n",
    "device"
   ]
  },
  {
   "cell_type": "code",
   "execution_count": 17,
   "metadata": {
    "colab": {
     "base_uri": "https://localhost:8080/"
    },
    "id": "19Gmjjnogq8k",
    "outputId": "60fa075f-db6b-4a2b-845b-db9e2424aa2a"
   },
   "outputs": [
    {
     "data": {
      "text/plain": [
       "torch.Size([1, 4, 64])"
      ]
     },
     "execution_count": 17,
     "metadata": {},
     "output_type": "execute_result"
    }
   ],
   "source": [
    "class TextEncoder(nn.Module):\n",
    "  def __init__(self, dim, vocab_size, max_seq_len):\n",
    "    super(TextEncoder, self).__init__()\n",
    "\n",
    "    self.embedding = nn.Embedding(vocab_size, dim)\n",
    "\n",
    "    self.positional_embedding = nn.Parameter(torch.zeros(1, max_seq_len, dim))\n",
    "  \n",
    "  def forward(self, x):\n",
    "\n",
    "    # x should be batches of tokens\n",
    "\n",
    "    x = self.embedding(x)\n",
    "\n",
    "    x = x + self.positional_embedding[:,:x.shape[1],:]\n",
    "\n",
    "    return x\n",
    "\n",
    "sample_model = TextEncoder(64, 10, 5)\n",
    "\n",
    "sample_tokens = torch.tensor([[1,2,3,4]])\n",
    "sample_model(sample_tokens).shape"
   ]
  },
  {
   "cell_type": "code",
   "execution_count": 18,
   "metadata": {
    "colab": {
     "base_uri": "https://localhost:8080/"
    },
    "id": "MAcTYHgYawou",
    "outputId": "eb61e2cf-e5ce-4b17-d52f-a9e58aaadcf8"
   },
   "outputs": [
    {
     "data": {
      "text/plain": [
       "torch.Size([8, 196, 64])"
      ]
     },
     "execution_count": 18,
     "metadata": {},
     "output_type": "execute_result"
    }
   ],
   "source": [
    "class ImageEncoder(nn.Module):\n",
    "  def __init__(self, dim, input_size, patch_size):\n",
    "    super(ImageEncoder, self).__init__()\n",
    "\n",
    "    self.dim = dim\n",
    "\n",
    "    scale = dim ** -0.5\n",
    "    self.conv1 = nn.Conv2d(in_channels=3, out_channels=dim, kernel_size=patch_size, stride=patch_size, bias=False)\n",
    "    self.positional_embedding = nn.Parameter(scale * torch.randn((input_size // patch_size) ** 2, dim))\n",
    "\n",
    "  def forward(self, x):\n",
    "\n",
    "    # x.shape:\n",
    "    # [ batch_size, num_images, rgb, width, height ]\n",
    "\n",
    "    batch_size, num_images, rgb, width, height = x.shape\n",
    "    \n",
    "    x = x.reshape(batch_size * num_images, rgb, width, height) \n",
    "\n",
    "    # x.shape:\n",
    "    # [ batch_size * num_images, rgb, width, height ]\n",
    "\n",
    "    x = self.conv1(x)\n",
    "\n",
    "    batch_image_prod, dim, grid_w, grid_h = x.shape\n",
    "\n",
    "    x = x.reshape(batch_size, num_images, dim, grid_w, grid_h)\n",
    "\n",
    "    # x.shape:\n",
    "    # [ batch_size, num_images, dim, grid_size, grid_size ]\n",
    "    \n",
    "    x = x.reshape(batch_size, num_images, self.dim, -1)\n",
    "\n",
    "    # x.shape:\n",
    "    # [ batch_size, num_images, dim, grid_size ** 2 ]\n",
    "\n",
    "    x = x.permute(0, 1, 3, 2)\n",
    "\n",
    "    # x.shape:\n",
    "    # [ batch_size, num_images, grid_size ** 2, dim ]\n",
    "\n",
    "    # the position of each image in the web page is irrelevant, however\n",
    "    # this allows the model to encode the position of each patch \n",
    "    # on each image \n",
    "\n",
    "    x = x + self.positional_embedding\n",
    "\n",
    "    batch_size, num_images, image_grid, dim = x.shape\n",
    "\n",
    "    x = x.reshape(batch_size, num_images * image_grid, dim)\n",
    "\n",
    "    return x\n",
    "\n",
    "\n",
    "sample_model = ImageEncoder(64, 224, 32)\n",
    "\n",
    "sample_input = torch.zeros(8, 4, 3, 224, 224)\n",
    "sample_model(sample_input).shape"
   ]
  },
  {
   "cell_type": "code",
   "execution_count": 19,
   "metadata": {
    "colab": {
     "base_uri": "https://localhost:8080/"
    },
    "id": "i0ac7EJCa4jZ",
    "outputId": "1613f086-94ff-40fc-bbb8-cd0310204af6"
   },
   "outputs": [
    {
     "name": "stdout",
     "output_type": "stream",
     "text": [
      "model uses 42.590208 million parameters\n"
     ]
    }
   ],
   "source": [
    "class WebPageFeatureExtractor(nn.Module):\n",
    "  def __init__(self, dim, num_heads, num_layers, hidden_dim, dropout, max_text_seq_len, image_size, vocab_size):\n",
    "    super(WebPageFeatureExtractor, self).__init__()\n",
    "\n",
    "    self.transformer = nn.TransformerEncoder(\n",
    "            nn.TransformerEncoderLayer(dim, num_heads, hidden_dim, dropout),\n",
    "            num_layers\n",
    "    )\n",
    "        \n",
    "    scale = dim ** -0.5\n",
    "    self.class_embedding = nn.Parameter(scale * torch.randn(dim))\n",
    "\n",
    "    self.img_encoder = ImageEncoder(dim, image_size, 32)\n",
    "    self.txt_encoder = TextEncoder(dim, vocab_size, max_text_seq_len)\n",
    "\n",
    "  def forward(self, img, txt):\n",
    "\n",
    "    # img:\n",
    "    # a tensor of any amount of images\n",
    "    # img.shape:\n",
    "    # [ batch_size, num_images, rgb, image_size, image_size]\n",
    "\n",
    "    img_embeddings = self.img_encoder(img)\n",
    "\n",
    "    # img_embeddings.shape:\n",
    "    # [ batch_size, grid_size ** 2, dim ]\n",
    "\n",
    "\n",
    "    # txt:\n",
    "    # a tensor of tokens\n",
    "    # txt.shape\n",
    "    # [ batch_size, seq_len ]\n",
    "\n",
    "    txt_embeddings = self.txt_encoder(txt)\n",
    "\n",
    "    # txt_embeddings.shape\n",
    "    # [ batch_size, seq_len, dim ]\n",
    "\n",
    "\n",
    "    batch_size = img_embeddings.shape[0]\n",
    "    class_embeddings = self.class_embedding + torch.zeros(batch_size, 1, self.class_embedding.shape[-1]).to(self.class_embedding.device)\n",
    "    \n",
    "    x = torch.cat(\n",
    "        [ class_embeddings, img_embeddings, txt_embeddings ],\n",
    "        dim = 1\n",
    "    )\n",
    "\n",
    "    x = self.transformer(x)\n",
    "\n",
    "    x = x[:, 0, :]\n",
    "\n",
    "    return x\n",
    "\n",
    "model = WebPageFeatureExtractor(\n",
    "    dim = 512,\n",
    "    num_heads = 8,\n",
    "    num_layers = 12,\n",
    "    hidden_dim = 1024, \n",
    "    dropout = 0.2, \n",
    "    max_text_seq_len = 256,\n",
    "    image_size = 224,\n",
    "    vocab_size = 30522\n",
    ").to(device)\n",
    "\n",
    "sample_text = torch.tensor([[1,2,3,4,5,6,7,8], [9,10,11,12,13,14,15,16]]).to(device)\n",
    "sample_images = torch.zeros(2, 4, 3, 224, 224).to(device)\n",
    "\n",
    "\n",
    "\n",
    "print(f\"model uses {sum(p.numel() for p in model.parameters()) / 1000000} million parameters\")"
   ]
  },
  {
   "cell_type": "code",
   "execution_count": 20,
   "metadata": {
    "colab": {
     "base_uri": "https://localhost:8080/"
    },
    "id": "zo-WOQQlhhek",
    "outputId": "45722081-9623-47f1-bf30-a21f1080fe53"
   },
   "outputs": [
    {
     "data": {
      "text/plain": [
       "tensor([[-0.2749, -1.0755, -0.8906,  ..., -0.1766, -1.9781, -0.3450],\n",
       "        [-0.0775, -1.2363, -0.0867,  ..., -0.4997, -1.7318, -0.4944]],\n",
       "       device='cuda:0', grad_fn=<SliceBackward0>)"
      ]
     },
     "execution_count": 20,
     "metadata": {},
     "output_type": "execute_result"
    }
   ],
   "source": [
    "model(sample_images, sample_text)"
   ]
  },
  {
   "cell_type": "markdown",
   "metadata": {
    "id": "zxV4LytumVRM"
   },
   "source": [
    "## Data"
   ]
  },
  {
   "cell_type": "code",
   "execution_count": 35,
   "metadata": {},
   "outputs": [],
   "source": [
    "IMAGES_PER_BATCH = 1\n",
    "WORDS_PER_BATCH = 256\n",
    "\n",
    "DATA_DIR = \"/home/ubuntu/Balene_DS_V1\""
   ]
  },
  {
   "cell_type": "code",
   "execution_count": 66,
   "metadata": {},
   "outputs": [
    {
     "name": "stderr",
     "output_type": "stream",
     "text": [
      "100%|██████████| 6375/6375 [00:00<00:00, 7870.93it/s]\n"
     ]
    },
    {
     "data": {
      "text/plain": [
       "2816"
      ]
     },
     "execution_count": 66,
     "metadata": {},
     "output_type": "execute_result"
    }
   ],
   "source": [
    "# this function is to decide whether or not a web page\n",
    "def validate_datapoint(path):\n",
    "    try:\n",
    "        with open(os.path.join(DATA_DIR,\"pages\",path), \"r\") as f:\n",
    "            text = f.read()\n",
    "\n",
    "        split_data = text.split('IMAGES_DONE')\n",
    "\n",
    "        image_paths, text = split_data[0], split_data[1]\n",
    "\n",
    "        image_paths = image_paths.split('\\n')\n",
    "        image_paths = [path for path in image_paths if path != '']\n",
    "\n",
    "        if len(image_paths) < IMAGES_PER_BATCH * 2:\n",
    "            return False\n",
    "\n",
    "        if len(text.split(' ')) < WORDS_PER_BATCH * 2 + 50:\n",
    "            return False\n",
    "    except: \n",
    "        return False\n",
    "\n",
    "    return True\n",
    "\n",
    "paths = os.listdir(os.path.join(DATA_DIR,\"pages\"))\n",
    "filtered_paths = []\n",
    "for path in tqdm(paths):\n",
    "    if validate_datapoint(path):\n",
    "        filtered_paths.append(path)\n",
    "len(filtered_paths)"
   ]
  },
  {
   "cell_type": "code",
   "execution_count": 61,
   "metadata": {},
   "outputs": [
    {
     "data": {
      "text/plain": [
       "'/home/ubuntu/Balene_DS_V1/images/somepath.jpg'"
      ]
     },
     "execution_count": 61,
     "metadata": {},
     "output_type": "execute_result"
    }
   ],
   "source": [
    "def remove_first_two_components(path, directory):\n",
    "  \"\"\"Removes the first two components of a path and adds a directory to the front.\n",
    "\n",
    "  Args:\n",
    "    path: The path to the file.\n",
    "    directory: The directory to add to the front of the path.\n",
    "\n",
    "  Returns:\n",
    "    The new path.\n",
    "  \"\"\"\n",
    "\n",
    "  parts = os.path.split(path)\n",
    "  new_path = os.path.join(directory, \"images\", parts[1])\n",
    "  return new_path\n",
    "\n",
    "def fix_image_path(path):\n",
    "    \n",
    "    path = remove_first_two_components(path, DATA_DIR)\n",
    "    \n",
    "    return path\n",
    "\n",
    "fix_image_path(\"/home/ubuntu/Balene_DS_V1/images/somepath.jpg\")"
   ]
  },
  {
   "cell_type": "code",
   "execution_count": 71,
   "metadata": {
    "colab": {
     "base_uri": "https://localhost:8080/"
    },
    "id": "349NrBykmYFL",
    "outputId": "13b24ad8-a7e7-4ce8-f05e-88f37c81cbd9"
   },
   "outputs": [
    {
     "data": {
      "text/plain": [
       "((tensor([[[[-0.7308, -1.2274, -1.0562,  ..., -1.0562, -1.0219, -1.1932],\n",
       "            [-1.0904, -0.9877, -1.1589,  ..., -1.3130, -1.0390, -0.9363],\n",
       "            [-1.0904, -0.9705, -1.2617,  ..., -0.5767, -0.9534, -1.0733],\n",
       "            ...,\n",
       "            [-1.1932, -1.0904, -0.8507,  ..., -1.0904, -1.0048, -0.7137],\n",
       "            [-1.1075, -0.9363, -1.2788,  ..., -1.1247, -1.0048, -1.0390],\n",
       "            [-0.7993, -0.5424, -0.8678,  ..., -0.8507, -0.9705, -1.0048]],\n",
       "  \n",
       "           [[-0.6352, -1.1429, -0.9503,  ..., -0.9503, -0.9153, -1.0903],\n",
       "            [-1.0553, -0.8978, -1.0728,  ..., -1.2129, -0.9328, -0.8277],\n",
       "            [-1.0728, -0.9328, -1.1779,  ..., -0.4601, -0.8452, -0.9678],\n",
       "            ...,\n",
       "            [-1.0553, -0.9503, -0.7052,  ..., -0.9853, -0.8978, -0.6001],\n",
       "            [-1.0028, -0.8277, -1.1429,  ..., -1.0203, -0.8978, -0.9328],\n",
       "            [-0.6877, -0.4251, -0.7227,  ..., -0.7402, -0.8627, -0.8978]],\n",
       "  \n",
       "           [[-0.4450, -0.9504, -0.7238,  ..., -0.7587, -0.7238, -0.8981],\n",
       "            [-0.8458, -0.7064, -0.8807,  ..., -1.0201, -0.7413, -0.6367],\n",
       "            [-0.8981, -0.7587, -0.9853,  ..., -0.2707, -0.6541, -0.7761],\n",
       "            ...,\n",
       "            [-0.8807, -0.7761, -0.4973,  ..., -0.7936, -0.7064, -0.4101],\n",
       "            [-0.8110, -0.6367, -0.9330,  ..., -0.8284, -0.7064, -0.7413],\n",
       "            [-0.4973, -0.2358, -0.5147,  ..., -0.5495, -0.6715, -0.7064]]]]),\n",
       "  tensor([  101, 11623, 18773, 22457,  1031,  1037,  1033,  1031,  1038,  1033,\n",
       "           1006,  2423,  2255,  7005,  1516,  1022,  2258,  3381,  1007,  2001,\n",
       "           1037,  3009,  5276,  1010, 10160,  1010,  6140,  8571,  1010, 14692,\n",
       "           2923,  1998,  3004,  5859,  2040,  2985,  2087,  1997,  2010,  4639,\n",
       "           2166,  1999,  2605,  1012,  2028,  1997,  1996,  2087,  6383,  3324,\n",
       "           1997,  1996,  3983,  2301,  1010,  2002,  2003,  2124,  2005,  2522,\n",
       "           1011,  4889,  1996, 21987,  2923,  2929,  1010,  1996, 11028,  1997,\n",
       "           3833,  6743,  1010,  1031,  1022,  1033,  1031,  1023,  1033,  1996,\n",
       "           2522,  1011, 11028,  1997,  8902, 20679,  1010,  1998,  2005,  1996,\n",
       "           2898,  3528,  1997,  6782,  2008,  2002,  3271,  4503,  1998,  8849,\n",
       "           1012,  2426,  2010,  2087,  3297,  2573,  2024,  1996, 15053,  1011,\n",
       "          21987,  2923,  4649,  9703,  5562, 20434,  1040,  1005, 20704, 24796,\n",
       "           1006,  5528,  1007,  1010,  1998,  1996,  3424,  1011,  2162,  4169,\n",
       "          19739, 11795,  5555,  1006,  4347,  1007,  1010,  1037,  6918, 13954,\n",
       "           1997,  1996,  8647,  1997, 19739, 11795,  5555,  2011,  2446,  1998,\n",
       "           3059,  2250,  2749,  2076,  1996,  3009,  2942,  2162,  1012, 22457,\n",
       "           7645,  9313,  6018,  5848,  1999,  2010,  2220,  2086,  1010,  4169,\n",
       "           1999,  1037, 19176,  2594,  5450,  2083,  2010,  5593,  1998, 29101,\n",
       "           1012,  2076,  1996,  2034,  5476,  1997,  1996,  3983,  2301,  1010,\n",
       "           2010,  2806,  2904,  2004,  2002, 20918,  2007,  2367,  8106,  1010,\n",
       "           5461,  1010,  1998,  4784,  1012,  2044,  5518,  1010,  1996,  6904,\n",
       "           2226, 11365,  2102,  2147,  1997,  1996,  3080,  3063,  8863, 13523,\n",
       "          23491, 12774, 22457,  2000,  8849,  2062,  7490,  6782,  1010,  2927,\n",
       "           1037,  5909,  3993, 10685,  2090,  1996,  2048,  3324,  1010,  2040,\n",
       "           3525,  2020,  2411, 12739,  2011,  4401,  2004,  1996,  4177,  1997,\n",
       "           2715,  2396,  1012,  1031,  2184,  1033])),\n",
       " (tensor([[[[ 1.8550,  1.7523,  1.6324,  ..., -0.2684, -0.5082, -0.6281],\n",
       "            [ 1.4440,  1.3755,  1.3927,  ..., -0.0458, -0.0629,  0.0569],\n",
       "            [ 1.3755,  1.2385,  1.1529,  ..., -0.0116, -0.0629,  0.0569],\n",
       "            ...,\n",
       "            [ 0.4166,  0.7933,  0.9132,  ...,  1.0502,  1.4783,  1.8893],\n",
       "            [-0.0801,  0.3309,  0.6392,  ...,  0.9303,  1.2043,  1.4612],\n",
       "            [-0.1828,  0.1426,  0.4851,  ...,  1.0673,  1.1872,  1.3242]],\n",
       "  \n",
       "           [[ 1.4132,  1.3081,  1.2206,  ..., -0.3550, -0.5476, -0.6702],\n",
       "            [ 1.0105,  0.9580,  0.9755,  ..., -0.1275, -0.0924,  0.0301],\n",
       "            [ 0.9755,  0.8354,  0.7304,  ..., -0.0924, -0.0924,  0.0301],\n",
       "            ...,\n",
       "            [ 0.3978,  0.7829,  0.9055,  ...,  1.0455,  1.4832,  1.9034],\n",
       "            [-0.1099,  0.3102,  0.6254,  ...,  0.9230,  1.2031,  1.5007],\n",
       "            [-0.2150,  0.1176,  0.4678,  ...,  1.0630,  1.2031,  1.3431]],\n",
       "  \n",
       "           [[ 1.0714,  0.9668,  0.8971,  ..., -0.4101, -0.6193, -0.7413],\n",
       "            [ 0.6182,  0.6008,  0.6182,  ..., -0.1835, -0.1661, -0.0441],\n",
       "            [ 0.5311,  0.3916,  0.3393,  ..., -0.1487, -0.1661, -0.0441],\n",
       "            ...,\n",
       "            [ 0.4962,  0.8797,  1.0017,  ...,  1.1411,  1.5768,  1.9951],\n",
       "            [-0.0092,  0.4091,  0.7228,  ...,  1.0539,  1.3328,  1.6117],\n",
       "            [-0.1138,  0.2173,  0.5659,  ...,  1.1934,  1.3677,  1.5071]]]]),\n",
       "  tensor([ 1031,  2340,  1033,  1031,  2260,  1033,  1031,  2410,  1033, 22457,\n",
       "           1005,  1055,  2147,  2003,  2411, 20427,  2046,  6993,  1012,  2096,\n",
       "           1996,  3415,  1997,  2116,  1997,  2010,  2101,  6993,  2024, 15268,\n",
       "           1010,  1996,  2087,  4141,  3970,  6993,  1999,  2010,  2147,  2024,\n",
       "           1996,  2630,  2558,  1006,  5775,  1516,  5692,  1007,  1010,  1996,\n",
       "           3123,  2558,  1006,  5692,  1516,  5518,  1007,  1010,  1996,  3060,\n",
       "           1011,  5105,  2558,  1006,  5528,  1516,  5556,  1007,  1010, 23521,\n",
       "          21987,  2964,  1006,  5556,  1516,  4878,  1007,  1010,  1998, 12553,\n",
       "          21987,  2964,  1006,  4878,  1516,  4529,  1007,  1010,  2036,  3615,\n",
       "           2000,  2004,  1996,  6121,  2558,  1012,  2172,  1997, 22457,  1005,\n",
       "           1055,  2147,  1997,  1996,  2397, 28088,  1998,  2220,  6641,  2003,\n",
       "           1999,  1037, 22657,  2806,  1010,  1998,  2010,  2147,  1999,  1996,\n",
       "           3054,  1011,  6641,  2411,  2038,  6459,  1997, 16524,  2964,  1012,\n",
       "           2010,  2101,  2147,  2411, 13585,  3787,  1997,  2010,  3041,  6782,\n",
       "           1012, 17077, 12807,  2802,  1996,  2607,  1997,  2010,  2146,  2166,\n",
       "           1010, 22457,  4719,  5415, 17738,  7962,  1998, 14269,  7280,  2005,\n",
       "           2010,  6208,  6018, 17571,  1010,  1998,  2150,  2028,  1997,  1996,\n",
       "           2190,  1011,  2124,  4481,  1999,  3983,  1011,  2301,  2396,  1012,\n",
       "          22457,  2001,  2141,  2012,  2603,  1024,  2321,  2006,  2423,  2255,\n",
       "           7005,  1010,  1999,  1996,  2103,  1997, 27382,  1010,  1998,  2389,\n",
       "          24118,  1010,  1999,  2670,  3577,  1012,  1031,  1016,  1033,  2002,\n",
       "           2001,  1996,  2034,  2775,  1997,  2123,  4560, 18773,  1061,  1038,\n",
       "           8523,  3597,  1006,  9931,  1516,  5124,  1007,  1998,  3814, 22457,\n",
       "           1061,  8685,  1012,  1031,  2403,  1033, 22457,  1005,  1055,  2155,\n",
       "           2001,  1997,  2690,  1011,  2465,  4281,  1012,  2010,  2269,  2001,\n",
       "           1037,  5276,  2040,  7772,  1999, 19176])))"
      ]
     },
     "execution_count": 71,
     "metadata": {},
     "output_type": "execute_result"
    }
   ],
   "source": [
    "image_transform = transforms.Compose([\n",
    "    transforms.ToTensor(),                                                       # Convert the image to a tensor\n",
    "    transforms.Resize((224, 224), antialias=True),                               # Resize the image to (224, 224)\n",
    "    transforms.Normalize(mean=[0.485, 0.456, 0.406], std=[0.229, 0.224, 0.225])  # Normalize the image\n",
    "])\n",
    "\n",
    "# Define the dataset class.\n",
    "class WebContentDataset(Dataset):\n",
    "\n",
    "    def __init__(self, paths):\n",
    "        self.paths = paths\n",
    "\n",
    "        self.max_images = IMAGES_PER_BATCH\n",
    "        self.max_tokens = WORDS_PER_BATCH\n",
    "\n",
    "    def __len__(self):\n",
    "          return len(self.paths)\n",
    "\n",
    "    def __getitem__(self, idx):\n",
    "\n",
    "      with open(os.path.join(DATA_DIR,\"pages\",self.paths[idx]), \"r\") as f:\n",
    "        text = f.read()\n",
    "\n",
    "      split_data = text.split('IMAGES_DONE')\n",
    "\n",
    "      image_paths, text = split_data[0], split_data[1]\n",
    "\n",
    "\n",
    "      images_tensor = torch.ones(1, 3, 224, 224)\n",
    "\n",
    "      image_paths = image_paths.split('\\n')\n",
    "      image_paths = [path for path in image_paths if path != '']\n",
    "    \n",
    "      image_paths = [fix_image_path(path) for path in image_paths]\n",
    "\n",
    "      random.shuffle(image_paths)\n",
    "      image_paths = image_paths[:self.max_images * 2]\n",
    "\n",
    "      for path in image_paths:\n",
    "        image_tensor = image_transform(Image.open(path)).unsqueeze(0)\n",
    "        images_tensor = torch.cat([images_tensor, image_tensor], dim=0)\n",
    "      \n",
    "      images_tensor = images_tensor[1:, :, :]\n",
    "\n",
    "\n",
    "      tokens = tokenizer.encode(text, return_tensors='pt').squeeze()\n",
    "\n",
    "\n",
    "      num_tokens = tokens.shape[0]\n",
    "      num_images = images_tensor.shape[0]\n",
    "\n",
    "      #assert num_tokens >= self.max_tokens * 2, f\"tokens: {num_tokens}, {tokens}\"\n",
    "      if num_tokens <= self.max_tokens * 2:\n",
    "        print(\"error: found tokens that are too small, replacing them with padding\")\n",
    "        tokens = torch.cat([tokens, torch.zeros(256, dtype=torch.int)], dim=0)\n",
    "      assert num_images >= self.max_images * 2\n",
    "\n",
    "      \n",
    "      img_seq_1 = images_tensor[:self.max_images, :, :, :]\n",
    "      img_seq_2 = images_tensor[self.max_images : self.max_images * 2, :, :, :]\n",
    "\n",
    "      tok_seq_1 = tokens[:self.max_tokens]\n",
    "      tok_seq_2 = tokens[self.max_tokens : self.max_tokens * 2]\n",
    "      \n",
    "\n",
    "      return (img_seq_1, tok_seq_1), (img_seq_2, tok_seq_2)\n",
    "\n",
    "\n",
    "ds = WebContentDataset(filtered_paths)\n",
    "\n",
    "ds[0]"
   ]
  },
  {
   "cell_type": "code",
   "execution_count": 73,
   "metadata": {
    "id": "5IsPV4VHRBdj"
   },
   "outputs": [],
   "source": [
    "batch_size = 32\n",
    "\n",
    "dl = torch.utils.data.DataLoader(ds, batch_size=batch_size, shuffle=True, num_workers=4)"
   ]
  },
  {
   "cell_type": "code",
   "execution_count": 41,
   "metadata": {
    "id": "zp2eRxRVRjfV"
   },
   "outputs": [],
   "source": [
    "criterion = torch.nn.CrossEntropyLoss()\n",
    "\n",
    "parameters = list(model.parameters()) \n",
    "optim = torch.optim.Adam(parameters, lr = 0.00001)"
   ]
  },
  {
   "cell_type": "markdown",
   "metadata": {
    "id": "AgeQzq-G4ig0"
   },
   "source": [
    "Inference the model, using it for search"
   ]
  },
  {
   "cell_type": "code",
   "execution_count": 42,
   "metadata": {
    "id": "pn6U1Br5DR_m"
   },
   "outputs": [],
   "source": [
    "def cosine_similarity(vector1, vector2):\n",
    "\n",
    "    # Normalize the tensors to unit length\n",
    "    tensor1 = F.normalize(vector1, dim=0)\n",
    "    tensor2 = F.normalize(vector2, dim=0)\n",
    "\n",
    "    # Calculate the cosine similarity between the two tensors\n",
    "    similarity = F.cosine_similarity(tensor1, tensor2, dim=0)\n",
    "\n",
    "    return similarity.item()"
   ]
  },
  {
   "cell_type": "code",
   "execution_count": 43,
   "metadata": {
    "colab": {
     "base_uri": "https://localhost:8080/"
    },
    "id": "kVqox1CX4hxK",
    "outputId": "991fb895-7603-499b-f992-a1ecc3de16b8"
   },
   "outputs": [
    {
     "name": "stderr",
     "output_type": "stream",
     "text": [
      "Token indices sequence length is longer than the specified maximum sequence length for this model (10594 > 512). Running this sequence through the model will result in indexing errors\n"
     ]
    },
    {
     "name": "stdout",
     "output_type": "stream",
     "text": [
      "['sample_data/pages/banana.txt', 'sample_data/pages/dog.txt', 'sample_data/pages/flower.txt', 'sample_data/pages/orion_nebula.txt', 'sample_data/pages/the_milky_way.txt', 'sample_data/pages/tree.txt', 'sample_data/pages/weather.txt', 'sample_data/pages/jungle.txt', 'sample_data/pages/the_sun.txt', 'sample_data/pages/query.txt']\n"
     ]
    },
    {
     "data": {
      "text/plain": [
       "{'banana.txt': 0.6533960103988647,\n",
       " 'dog.txt': 0.6890339255332947,\n",
       " 'flower.txt': 0.7224043607711792,\n",
       " 'orion_nebula.txt': 1.0,\n",
       " 'the_milky_way.txt': 0.7201002240180969,\n",
       " 'tree.txt': 0.7133609056472778,\n",
       " 'weather.txt': 0.6945586204528809,\n",
       " 'jungle.txt': 0.6943005919456482,\n",
       " 'the_sun.txt': 0.7287638783454895,\n",
       " 'query.txt': 0.76009202003479}"
      ]
     },
     "execution_count": 43,
     "metadata": {},
     "output_type": "execute_result"
    }
   ],
   "source": [
    "def open_data(path : str):\n",
    "\n",
    "  with open(path, \"r\") as f:\n",
    "    text = f.read()\n",
    "\n",
    "  split_data = text.split('IMAGES_DONE')\n",
    "\n",
    "  image_paths, text = split_data[0], split_data[1]\n",
    "  \n",
    "\n",
    "  images_tensor = torch.ones(1, 3, 224, 224)\n",
    "\n",
    "  image_paths = image_paths.split('\\n')\n",
    "  \n",
    "  \n",
    "  random.shuffle(image_paths)\n",
    "  image_paths = image_paths[:2]\n",
    "\n",
    "  image_paths = filter(lambda x : x != '', image_paths)\n",
    "  for path in image_paths:\n",
    "    image_tensor = image_transform(Image.open(path)).unsqueeze(0)\n",
    "    images_tensor = torch.cat([images_tensor, image_tensor], dim=0)\n",
    "  \n",
    "  images_tensor = images_tensor[1:, :, :]\n",
    "\n",
    "  images_tensor = images_tensor.unsqueeze(0)\n",
    "  #images_tensor = shuffle_tensor(images_tensor, 0).unsqueeze(0)[:,:2,:,:,:]\n",
    "\n",
    "  tokens = tokenizer.encode(text, return_tensors='pt')[:,:256]\n",
    "\n",
    "  return images_tensor, tokens\n",
    "\n",
    "def encode_data(path : str) -> torch.tensor:\n",
    "\n",
    "  images, tokens = open_data(path)\n",
    "\n",
    "  images, tokens = images.to(device), tokens.to(device)\n",
    "\n",
    "  #print(images, tokens)\n",
    "  #model.eval()\n",
    "\n",
    "  with torch.no_grad():\n",
    "    vec = model(images, tokens)\n",
    "\n",
    "  return vec\n",
    "\n",
    "\n",
    "def get_search_vecs():\n",
    "\n",
    "  search_dict = dict()\n",
    "\n",
    "  for path in search_paths:\n",
    "    vec = encode_data(path)\n",
    "\n",
    "    page_name = path.split('/')[-1]\n",
    "    search_dict[page_name] = vec\n",
    "  \n",
    "  return search_dict\n",
    "\n",
    "def get_search_scores():\n",
    "  vec_dict = get_search_vecs()\n",
    "\n",
    "  query_vec = vec_dict[\"orion_nebula.txt\"].squeeze()\n",
    "\n",
    "  for key in vec_dict.keys():\n",
    "    key_vec = vec_dict[key].squeeze()\n",
    "\n",
    "    similarity = cosine_similarity(query_vec, key_vec)\n",
    "\n",
    "    vec_dict[key] = similarity\n",
    "  \n",
    "  return vec_dict\n",
    "\n",
    "def create_cosimilarity_matrix(vec_dict):\n",
    "\n",
    "  keys = vec_dict.keys()\n",
    "\n",
    "  output = torch.zeros(len(keys), len(keys))\n",
    "\n",
    "  for i, key1 in enumerate(keys):\n",
    "    for j, key2 in enumerate(keys):\n",
    "      similarity = cosine_similarity(vec_dict[key1].squeeze(), vec_dict[key2].squeeze())\n",
    "      output[i][j] = similarity\n",
    "  \n",
    "  return output\n",
    "\n",
    "\n",
    "\n",
    "search_paths = [\n",
    "    \"banana.txt\",\n",
    "    \"dog.txt\",\n",
    "    \"flower.txt\",\n",
    "    \"orion_nebula.txt\",\n",
    "    \"the_milky_way.txt\",\n",
    "    \"tree.txt\",\n",
    "    \"weather.txt\",\n",
    "    \"jungle.txt\",\n",
    "    \"the_sun.txt\"\n",
    "]\n",
    "search_paths = [f\"sample_data/pages/{page}\" for page in search_paths]\n",
    "search_paths.append(\"sample_data/pages/query.txt\")\n",
    "print(search_paths)\n",
    "get_search_scores()"
   ]
  },
  {
   "cell_type": "code",
   "execution_count": 44,
   "metadata": {
    "colab": {
     "base_uri": "https://localhost:8080/",
     "height": 557
    },
    "id": "56v8c9IeZnoi",
    "outputId": "fbe1a1fb-f5d8-4c14-c4d0-7e97aa2edc6c"
   },
   "outputs": [
    {
     "data": {
      "text/plain": [
       "<matplotlib.image.AxesImage at 0x7f976ce90250>"
      ]
     },
     "execution_count": 44,
     "metadata": {},
     "output_type": "execute_result"
    },
    {
     "data": {
      "image/png": "[encoded data removed]",
      "text/plain": [
       "<Figure size 432x288 with 1 Axes>"
      ]
     },
     "metadata": {
      "needs_background": "light"
     },
     "output_type": "display_data"
    }
   ],
   "source": [
    "vec_dict = get_search_vecs()\n",
    "mat = create_cosimilarity_matrix(vec_dict)\n",
    "keys = list(vec_dict.keys())\n",
    "tick_marks = np.arange(len(keys))\n",
    "plt.xticks(tick_marks, keys, rotation = 90)\n",
    "plt.yticks(tick_marks, keys)\n",
    "plt.imshow(mat)"
   ]
  },
  {
   "cell_type": "code",
   "execution_count": 45,
   "metadata": {
    "colab": {
     "base_uri": "https://localhost:8080/"
    },
    "id": "r-PSLFUscuBg",
    "outputId": "93dac558-1dd5-43c6-f5c1-e730d9e76af1"
   },
   "outputs": [
    {
     "name": "stdout",
     "output_type": "stream",
     "text": [
      "Defaulting to user installation because normal site-packages is not writeable\n",
      "Collecting neptune\n",
      "  Downloading neptune-1.2.0-py3-none-any.whl (448 kB)\n",
      "\u001b[2K     \u001b[90m━━━━━━━━━━━━━━━━━━━━━━━━━━━━━━━━━━━━━━\u001b[0m \u001b[32m448.1/448.1 kB\u001b[0m \u001b[31m68.9 MB/s\u001b[0m eta \u001b[36m0:00:00\u001b[0m\n",
      "\u001b[?25hRequirement already satisfied: packaging in /home/ubuntu/.local/lib/python3.8/site-packages (from neptune) (23.0)\n",
      "Collecting bravado<12.0.0,>=11.0.0\n",
      "  Downloading bravado-11.0.3-py2.py3-none-any.whl (38 kB)\n",
      "Requirement already satisfied: websocket-client!=1.0.0,>=0.35.0 in /usr/lib/python3/dist-packages (from neptune) (0.53.0)\n",
      "Requirement already satisfied: six>=1.12.0 in /usr/lib/python3/dist-packages (from neptune) (1.14.0)\n",
      "Requirement already satisfied: urllib3 in /usr/lib/python3/dist-packages (from neptune) (1.25.8)\n",
      "Requirement already satisfied: psutil in /usr/lib/python3/dist-packages (from neptune) (5.5.1)\n",
      "Requirement already satisfied: requests-oauthlib>=1.0.0 in /usr/lib/python3/dist-packages (from neptune) (1.0.0)\n",
      "Collecting boto3>=1.16.0\n",
      "  Downloading boto3-1.26.135-py3-none-any.whl (135 kB)\n",
      "\u001b[2K     \u001b[90m━━━━━━━━━━━━━━━━━━━━━━━━━━━━━━━━━━━━━━\u001b[0m \u001b[32m135.6/135.6 kB\u001b[0m \u001b[31m54.0 MB/s\u001b[0m eta \u001b[36m0:00:00\u001b[0m\n",
      "\u001b[?25hRequirement already satisfied: oauthlib>=2.1.0 in /usr/lib/python3/dist-packages (from neptune) (3.1.0)\n",
      "Collecting GitPython>=2.0.8\n",
      "  Downloading GitPython-3.1.31-py3-none-any.whl (184 kB)\n",
      "\u001b[2K     \u001b[90m━━━━━━━━━━━━━━━━━━━━━━━━━━━━━━━━━━━━━━\u001b[0m \u001b[32m184.3/184.3 kB\u001b[0m \u001b[31m75.4 MB/s\u001b[0m eta \u001b[36m0:00:00\u001b[0m\n",
      "\u001b[?25hRequirement already satisfied: pandas in /home/ubuntu/.local/lib/python3.8/site-packages (from neptune) (1.5.3)\n",
      "Requirement already satisfied: PyJWT in /usr/lib/python3/dist-packages (from neptune) (1.7.1)\n",
      "Requirement already satisfied: Pillow>=1.1.6 in /usr/lib/python3/dist-packages (from neptune) (7.0.0)\n",
      "Requirement already satisfied: future>=0.17.1 in /usr/lib/python3/dist-packages (from neptune) (0.18.2)\n",
      "Requirement already satisfied: requests>=2.20.0 in /home/ubuntu/.local/lib/python3.8/site-packages (from neptune) (2.28.2)\n",
      "Requirement already satisfied: click>=7.0 in /usr/lib/python3/dist-packages (from neptune) (7.0)\n",
      "Collecting swagger-spec-validator>=2.7.4\n",
      "  Downloading swagger_spec_validator-3.0.3-py2.py3-none-any.whl (27 kB)\n",
      "Collecting botocore<1.30.0,>=1.29.135\n",
      "  Downloading botocore-1.29.135-py3-none-any.whl (10.7 MB)\n",
      "\u001b[2K     \u001b[90m━━━━━━━━━━━━━━━━━━━━━━━━━━━━━━━━━━━━━━━\u001b[0m \u001b[32m10.7/10.7 MB\u001b[0m \u001b[31m187.1 MB/s\u001b[0m eta \u001b[36m0:00:00\u001b[0m00:01\u001b[0m\n",
      "\u001b[?25hCollecting jmespath<2.0.0,>=0.7.1\n",
      "  Downloading jmespath-1.0.1-py3-none-any.whl (20 kB)\n",
      "Collecting s3transfer<0.7.0,>=0.6.0\n",
      "  Downloading s3transfer-0.6.1-py3-none-any.whl (79 kB)\n",
      "\u001b[2K     \u001b[90m━━━━━━━━━━━━━━━━━━━━━━━━━━━━━━━━━━━━━━━━\u001b[0m \u001b[32m79.8/79.8 kB\u001b[0m \u001b[31m31.7 MB/s\u001b[0m eta \u001b[36m0:00:00\u001b[0m\n",
      "\u001b[?25hRequirement already satisfied: simplejson in /usr/lib/python3/dist-packages (from bravado<12.0.0,>=11.0.0->neptune) (3.16.0)\n",
      "Requirement already satisfied: typing-extensions in /home/ubuntu/.local/lib/python3.8/site-packages (from bravado<12.0.0,>=11.0.0->neptune) (4.5.0)\n",
      "Collecting monotonic\n",
      "  Downloading monotonic-1.6-py2.py3-none-any.whl (8.2 kB)\n",
      "Collecting bravado-core>=5.16.1\n",
      "  Downloading bravado_core-5.17.1-py2.py3-none-any.whl (67 kB)\n",
      "\u001b[2K     \u001b[90m━━━━━━━━━━━━━━━━━━━━━━━━━━━━━━━━━━━━━━━━\u001b[0m \u001b[32m67.7/67.7 kB\u001b[0m \u001b[31m31.2 MB/s\u001b[0m eta \u001b[36m0:00:00\u001b[0m\n",
      "\u001b[?25hCollecting msgpack\n",
      "  Downloading msgpack-1.0.5-cp38-cp38-manylinux_2_17_x86_64.manylinux2014_x86_64.whl (322 kB)\n",
      "\u001b[2K     \u001b[90m━━━━━━━━━━━━━━━━━━━━━━━━━━━━━━━━━━━━━━\u001b[0m \u001b[32m322.4/322.4 kB\u001b[0m \u001b[31m87.1 MB/s\u001b[0m eta \u001b[36m0:00:00\u001b[0m\n",
      "\u001b[?25hRequirement already satisfied: pyyaml in /usr/lib/python3/dist-packages (from bravado<12.0.0,>=11.0.0->neptune) (5.3.1)\n",
      "Requirement already satisfied: python-dateutil in /home/ubuntu/.local/lib/python3.8/site-packages (from bravado<12.0.0,>=11.0.0->neptune) (2.8.2)\n",
      "Collecting gitdb<5,>=4.0.1\n",
      "  Downloading gitdb-4.0.10-py3-none-any.whl (62 kB)\n",
      "\u001b[2K     \u001b[90m━━━━━━━━━━━━━━━━━━━━━━━━━━━━━━━━━━━━━━━━\u001b[0m \u001b[32m62.7/62.7 kB\u001b[0m \u001b[31m25.1 MB/s\u001b[0m eta \u001b[36m0:00:00\u001b[0m\n",
      "\u001b[?25hRequirement already satisfied: certifi>=2017.4.17 in /usr/lib/python3/dist-packages (from requests>=2.20.0->neptune) (2019.11.28)\n",
      "Requirement already satisfied: idna<4,>=2.5 in /usr/lib/python3/dist-packages (from requests>=2.20.0->neptune) (2.8)\n",
      "Requirement already satisfied: charset-normalizer<4,>=2 in /home/ubuntu/.local/lib/python3.8/site-packages (from requests>=2.20.0->neptune) (3.1.0)\n",
      "Requirement already satisfied: jsonschema in /home/ubuntu/.local/lib/python3.8/site-packages (from swagger-spec-validator>=2.7.4->neptune) (4.17.3)\n",
      "Requirement already satisfied: pytz>=2020.1 in /home/ubuntu/.local/lib/python3.8/site-packages (from pandas->neptune) (2022.7.1)\n",
      "Requirement already satisfied: numpy>=1.20.3 in /home/ubuntu/.local/lib/python3.8/site-packages (from pandas->neptune) (1.23.5)\n",
      "Collecting jsonref\n",
      "  Downloading jsonref-1.1.0-py3-none-any.whl (9.4 kB)\n",
      "Collecting smmap<6,>=3.0.1\n",
      "  Downloading smmap-5.0.0-py3-none-any.whl (24 kB)\n",
      "Requirement already satisfied: pkgutil-resolve-name>=1.3.10 in /home/ubuntu/.local/lib/python3.8/site-packages (from jsonschema->swagger-spec-validator>=2.7.4->neptune) (1.3.10)\n",
      "Requirement already satisfied: attrs>=17.4.0 in /usr/lib/python3/dist-packages (from jsonschema->swagger-spec-validator>=2.7.4->neptune) (19.3.0)\n",
      "Requirement already satisfied: importlib-resources>=1.4.0 in /home/ubuntu/.local/lib/python3.8/site-packages (from jsonschema->swagger-spec-validator>=2.7.4->neptune) (5.12.0)\n",
      "Requirement already satisfied: pyrsistent!=0.17.0,!=0.17.1,!=0.17.2,>=0.14.0 in /usr/lib/python3/dist-packages (from jsonschema->swagger-spec-validator>=2.7.4->neptune) (0.15.5)\n",
      "Requirement already satisfied: zipp>=3.1.0 in /home/ubuntu/.local/lib/python3.8/site-packages (from importlib-resources>=1.4.0->jsonschema->swagger-spec-validator>=2.7.4->neptune) (3.15.0)\n",
      "Collecting rfc3987\n",
      "  Downloading rfc3987-1.3.8-py2.py3-none-any.whl (13 kB)\n",
      "Requirement already satisfied: fqdn in /home/ubuntu/.local/lib/python3.8/site-packages (from jsonschema->swagger-spec-validator>=2.7.4->neptune) (1.5.1)\n",
      "Requirement already satisfied: rfc3339-validator in /home/ubuntu/.local/lib/python3.8/site-packages (from jsonschema->swagger-spec-validator>=2.7.4->neptune) (0.1.4)\n",
      "Requirement already satisfied: uri-template in /home/ubuntu/.local/lib/python3.8/site-packages (from jsonschema->swagger-spec-validator>=2.7.4->neptune) (1.2.0)\n",
      "Requirement already satisfied: jsonpointer>1.13 in /usr/lib/python3/dist-packages (from jsonschema->swagger-spec-validator>=2.7.4->neptune) (2.0)\n",
      "Requirement already satisfied: isoduration in /home/ubuntu/.local/lib/python3.8/site-packages (from jsonschema->swagger-spec-validator>=2.7.4->neptune) (20.11.0)\n",
      "Requirement already satisfied: webcolors>=1.11 in /home/ubuntu/.local/lib/python3.8/site-packages (from jsonschema->swagger-spec-validator>=2.7.4->neptune) (1.12)\n",
      "Requirement already satisfied: arrow>=0.15.0 in /home/ubuntu/.local/lib/python3.8/site-packages (from isoduration->jsonschema->swagger-spec-validator>=2.7.4->neptune) (1.2.3)\n",
      "Installing collected packages: rfc3987, msgpack, monotonic, smmap, jsonref, jmespath, gitdb, botocore, swagger-spec-validator, s3transfer, GitPython, boto3, bravado-core, bravado, neptune\n",
      "Successfully installed GitPython-3.1.31 boto3-1.26.135 botocore-1.29.135 bravado-11.0.3 bravado-core-5.17.1 gitdb-4.0.10 jmespath-1.0.1 jsonref-1.1.0 monotonic-1.6 msgpack-1.0.5 neptune-1.2.0 rfc3987-1.3.8 s3transfer-0.6.1 smmap-5.0.0 swagger-spec-validator-3.0.3\n",
      "\n",
      "\u001b[1m[\u001b[0m\u001b[34;49mnotice\u001b[0m\u001b[1;39;49m]\u001b[0m\u001b[39;49m A new release of pip is available: \u001b[0m\u001b[31;49m23.0.1\u001b[0m\u001b[39;49m -> \u001b[0m\u001b[32;49m23.1.2\u001b[0m\n",
      "\u001b[1m[\u001b[0m\u001b[34;49mnotice\u001b[0m\u001b[1;39;49m]\u001b[0m\u001b[39;49m To update, run: \u001b[0m\u001b[32;49mpython3 -m pip install --upgrade pip\u001b[0m\n"
     ]
    }
   ],
   "source": [
    "!pip install neptune"
   ]
  },
  {
   "cell_type": "code",
   "execution_count": 46,
   "metadata": {
    "colab": {
     "base_uri": "https://localhost:8080/"
    },
    "id": "K2Q4C2Xec5wr",
    "outputId": "afee6580-757f-42be-bb75-9abb3b73743d"
   },
   "outputs": [
    {
     "name": "stderr",
     "output_type": "stream",
     "text": [
      "/home/ubuntu/.local/lib/python3.8/site-packages/pandas/core/computation/expressions.py:20: UserWarning: Pandas requires version '2.7.3' or newer of 'numexpr' (version '2.7.1' currently installed).\n",
      "  from pandas.core.computation.check import NUMEXPR_INSTALLED\n",
      "<ipython-input-46-2cc3f6c79269>:3: NeptuneWarning: To avoid unintended consumption of logging hours during interactive sessions, the following monitoring options are disabled unless set to 'True' when initializing the run: 'capture_stdout', 'capture_stderr', and 'capture_hardware_metrics'.\n",
      "  run = neptune.init_run(\n"
     ]
    },
    {
     "name": "stdout",
     "output_type": "stream",
     "text": [
      "https://app.neptune.ai/cjryanwashere/Search-Engine/e/SEARCH-8\n"
     ]
    }
   ],
   "source": [
    "import neptune\n",
    "\n",
    "run = neptune.init_run(\n",
    "    project=\"cjryanwashere/Search-Engine\",\n",
    "    api_token=\"eyJhcGlfYWRkcmVzcyI6Imh0dHBzOi8vYXBwLm5lcHR1bmUuYWkiLCJhcGlfdXJsIjoiaHR0cHM6Ly9hcHAubmVwdHVuZS5haSIsImFwaV9rZXkiOiI2ODc4MDgwNS0wYzEwLTQ4MWEtOTJlOS0wODAxY2JmNmIzYmEifQ==\",\n",
    ")  # your credentials\n"
   ]
  },
  {
   "cell_type": "code",
   "execution_count": 47,
   "metadata": {
    "id": "b8yNCjRMZ6OF"
   },
   "outputs": [],
   "source": [
    "def write_cosimilarity_matrix():\n",
    "\n",
    "  vec_dict = get_search_vecs()\n",
    "\n",
    "  mat = create_cosimilarity_matrix(vec_dict)\n",
    "\n",
    "  keys = list(vec_dict.keys())\n",
    "  tick_marks = np.arange(len(keys))\n",
    "\n",
    "  fig, ax = plt.subplots()\n",
    "  ax.imshow(mat)\n",
    "  plt.close()\n",
    "  ax.set_xticks(tick_marks, keys, rotation=90)\n",
    "  ax.set_yticks(tick_marks, keys)\n",
    "\n",
    "  run[\"figures/similarity\"].append(fig)\n",
    "\n",
    "#write_cosimilarity_matrix()"
   ]
  },
  {
   "cell_type": "code",
   "execution_count": 48,
   "metadata": {
    "id": "3BXcVCMgKsiz"
   },
   "outputs": [],
   "source": [
    "def write_search_scores():\n",
    "  scores = get_search_scores()\n",
    "\n",
    "  for key in scores.keys():\n",
    "    run[f\"cosine_similarity/{key}\"].append(scores[key])\n",
    "\n",
    "write_search_scores()"
   ]
  },
  {
   "cell_type": "code",
   "execution_count": 74,
   "metadata": {
    "colab": {
     "base_uri": "https://localhost:8080/",
     "height": 1000
    },
    "id": "nsi-6AtgSYHG",
    "outputId": "d4fbfde8-e4e0-4cfc-fb21-bbedf6180908"
   },
   "outputs": [
    {
     "name": "stdout",
     "output_type": "stream",
     "text": [
      "\n",
      " epoch 0\n",
      "...............error: found tokens that are too small, replacing them with padding\n",
      ".........................................................................\n",
      " epoch 1\n",
      "........................."
     ]
    },
    {
     "ename": "FileNotFoundError",
     "evalue": "Caught FileNotFoundError in DataLoader worker process 1.\nOriginal Traceback (most recent call last):\n  File \"/usr/lib/python3/dist-packages/torch/utils/data/_utils/worker.py\", line 302, in _worker_loop\n    data = fetcher.fetch(index)\n  File \"/usr/lib/python3/dist-packages/torch/utils/data/_utils/fetch.py\", line 58, in fetch\n    data = [self.dataset[idx] for idx in possibly_batched_index]\n  File \"/usr/lib/python3/dist-packages/torch/utils/data/_utils/fetch.py\", line 58, in <listcomp>\n    data = [self.dataset[idx] for idx in possibly_batched_index]\n  File \"<ipython-input-71-d22db7fbde65>\", line 40, in __getitem__\n    image_tensor = image_transform(Image.open(path)).unsqueeze(0)\n  File \"/usr/lib/python3/dist-packages/PIL/Image.py\", line 2809, in open\n    fp = builtins.open(filename, \"rb\")\nFileNotFoundError: [Errno 2] No such file or directory: '/home/ubuntu/Balene_DS_V1/images/170px-Stiftskirche_stuttgart.jpg.jpg'\n",
     "output_type": "error",
     "traceback": [
      "\u001b[0;31m---------------------------------------------------------------------------\u001b[0m",
      "\u001b[0;31mFileNotFoundError\u001b[0m                         Traceback (most recent call last)",
      "\u001b[0;32m<ipython-input-74-6df20551c638>\u001b[0m in \u001b[0;36m<module>\u001b[0;34m\u001b[0m\n\u001b[1;32m      5\u001b[0m   \u001b[0mwrite_search_scores\u001b[0m\u001b[0;34m(\u001b[0m\u001b[0;34m)\u001b[0m\u001b[0;34m\u001b[0m\u001b[0;34m\u001b[0m\u001b[0m\n\u001b[1;32m      6\u001b[0m \u001b[0;34m\u001b[0m\u001b[0m\n\u001b[0;32m----> 7\u001b[0;31m   \u001b[0;32mfor\u001b[0m \u001b[0mi\u001b[0m\u001b[0;34m,\u001b[0m \u001b[0mbatch\u001b[0m \u001b[0;32min\u001b[0m \u001b[0menumerate\u001b[0m\u001b[0;34m(\u001b[0m\u001b[0mdl\u001b[0m\u001b[0;34m)\u001b[0m\u001b[0;34m:\u001b[0m\u001b[0;34m\u001b[0m\u001b[0;34m\u001b[0m\u001b[0m\n\u001b[0m\u001b[1;32m      8\u001b[0m \u001b[0;34m\u001b[0m\u001b[0m\n\u001b[1;32m      9\u001b[0m     \u001b[0mseq_1\u001b[0m\u001b[0;34m,\u001b[0m \u001b[0mseq_2\u001b[0m \u001b[0;34m=\u001b[0m \u001b[0mbatch\u001b[0m\u001b[0;34m\u001b[0m\u001b[0;34m\u001b[0m\u001b[0m\n",
      "\u001b[0;32m/usr/lib/python3/dist-packages/torch/utils/data/dataloader.py\u001b[0m in \u001b[0;36m__next__\u001b[0;34m(self)\u001b[0m\n\u001b[1;32m    626\u001b[0m                 \u001b[0;31m# TODO(https://github.com/pytorch/pytorch/issues/76750)\u001b[0m\u001b[0;34m\u001b[0m\u001b[0;34m\u001b[0m\u001b[0;34m\u001b[0m\u001b[0m\n\u001b[1;32m    627\u001b[0m                 \u001b[0mself\u001b[0m\u001b[0;34m.\u001b[0m\u001b[0m_reset\u001b[0m\u001b[0;34m(\u001b[0m\u001b[0;34m)\u001b[0m  \u001b[0;31m# type: ignore[call-arg]\u001b[0m\u001b[0;34m\u001b[0m\u001b[0;34m\u001b[0m\u001b[0m\n\u001b[0;32m--> 628\u001b[0;31m             \u001b[0mdata\u001b[0m \u001b[0;34m=\u001b[0m \u001b[0mself\u001b[0m\u001b[0;34m.\u001b[0m\u001b[0m_next_data\u001b[0m\u001b[0;34m(\u001b[0m\u001b[0;34m)\u001b[0m\u001b[0;34m\u001b[0m\u001b[0;34m\u001b[0m\u001b[0m\n\u001b[0m\u001b[1;32m    629\u001b[0m             \u001b[0mself\u001b[0m\u001b[0;34m.\u001b[0m\u001b[0m_num_yielded\u001b[0m \u001b[0;34m+=\u001b[0m \u001b[0;36m1\u001b[0m\u001b[0;34m\u001b[0m\u001b[0;34m\u001b[0m\u001b[0m\n\u001b[1;32m    630\u001b[0m             \u001b[0;32mif\u001b[0m \u001b[0mself\u001b[0m\u001b[0;34m.\u001b[0m\u001b[0m_dataset_kind\u001b[0m \u001b[0;34m==\u001b[0m \u001b[0m_DatasetKind\u001b[0m\u001b[0;34m.\u001b[0m\u001b[0mIterable\u001b[0m \u001b[0;32mand\u001b[0m\u001b[0;31m \u001b[0m\u001b[0;31m\\\u001b[0m\u001b[0;34m\u001b[0m\u001b[0;34m\u001b[0m\u001b[0m\n",
      "\u001b[0;32m/usr/lib/python3/dist-packages/torch/utils/data/dataloader.py\u001b[0m in \u001b[0;36m_next_data\u001b[0;34m(self)\u001b[0m\n\u001b[1;32m   1311\u001b[0m             \u001b[0;32mif\u001b[0m \u001b[0mlen\u001b[0m\u001b[0;34m(\u001b[0m\u001b[0mself\u001b[0m\u001b[0;34m.\u001b[0m\u001b[0m_task_info\u001b[0m\u001b[0;34m[\u001b[0m\u001b[0mself\u001b[0m\u001b[0;34m.\u001b[0m\u001b[0m_rcvd_idx\u001b[0m\u001b[0;34m]\u001b[0m\u001b[0;34m)\u001b[0m \u001b[0;34m==\u001b[0m \u001b[0;36m2\u001b[0m\u001b[0;34m:\u001b[0m\u001b[0;34m\u001b[0m\u001b[0;34m\u001b[0m\u001b[0m\n\u001b[1;32m   1312\u001b[0m                 \u001b[0mdata\u001b[0m \u001b[0;34m=\u001b[0m \u001b[0mself\u001b[0m\u001b[0;34m.\u001b[0m\u001b[0m_task_info\u001b[0m\u001b[0;34m.\u001b[0m\u001b[0mpop\u001b[0m\u001b[0;34m(\u001b[0m\u001b[0mself\u001b[0m\u001b[0;34m.\u001b[0m\u001b[0m_rcvd_idx\u001b[0m\u001b[0;34m)\u001b[0m\u001b[0;34m[\u001b[0m\u001b[0;36m1\u001b[0m\u001b[0;34m]\u001b[0m\u001b[0;34m\u001b[0m\u001b[0;34m\u001b[0m\u001b[0m\n\u001b[0;32m-> 1313\u001b[0;31m                 \u001b[0;32mreturn\u001b[0m \u001b[0mself\u001b[0m\u001b[0;34m.\u001b[0m\u001b[0m_process_data\u001b[0m\u001b[0;34m(\u001b[0m\u001b[0mdata\u001b[0m\u001b[0;34m)\u001b[0m\u001b[0;34m\u001b[0m\u001b[0;34m\u001b[0m\u001b[0m\n\u001b[0m\u001b[1;32m   1314\u001b[0m \u001b[0;34m\u001b[0m\u001b[0m\n\u001b[1;32m   1315\u001b[0m             \u001b[0;32massert\u001b[0m \u001b[0;32mnot\u001b[0m \u001b[0mself\u001b[0m\u001b[0;34m.\u001b[0m\u001b[0m_shutdown\u001b[0m \u001b[0;32mand\u001b[0m \u001b[0mself\u001b[0m\u001b[0;34m.\u001b[0m\u001b[0m_tasks_outstanding\u001b[0m \u001b[0;34m>\u001b[0m \u001b[0;36m0\u001b[0m\u001b[0;34m\u001b[0m\u001b[0;34m\u001b[0m\u001b[0m\n",
      "\u001b[0;32m/usr/lib/python3/dist-packages/torch/utils/data/dataloader.py\u001b[0m in \u001b[0;36m_process_data\u001b[0;34m(self, data)\u001b[0m\n\u001b[1;32m   1357\u001b[0m         \u001b[0mself\u001b[0m\u001b[0;34m.\u001b[0m\u001b[0m_try_put_index\u001b[0m\u001b[0;34m(\u001b[0m\u001b[0;34m)\u001b[0m\u001b[0;34m\u001b[0m\u001b[0;34m\u001b[0m\u001b[0m\n\u001b[1;32m   1358\u001b[0m         \u001b[0;32mif\u001b[0m \u001b[0misinstance\u001b[0m\u001b[0;34m(\u001b[0m\u001b[0mdata\u001b[0m\u001b[0;34m,\u001b[0m \u001b[0mExceptionWrapper\u001b[0m\u001b[0;34m)\u001b[0m\u001b[0;34m:\u001b[0m\u001b[0;34m\u001b[0m\u001b[0;34m\u001b[0m\u001b[0m\n\u001b[0;32m-> 1359\u001b[0;31m             \u001b[0mdata\u001b[0m\u001b[0;34m.\u001b[0m\u001b[0mreraise\u001b[0m\u001b[0;34m(\u001b[0m\u001b[0;34m)\u001b[0m\u001b[0;34m\u001b[0m\u001b[0;34m\u001b[0m\u001b[0m\n\u001b[0m\u001b[1;32m   1360\u001b[0m         \u001b[0;32mreturn\u001b[0m \u001b[0mdata\u001b[0m\u001b[0;34m\u001b[0m\u001b[0;34m\u001b[0m\u001b[0m\n\u001b[1;32m   1361\u001b[0m \u001b[0;34m\u001b[0m\u001b[0m\n",
      "\u001b[0;32m/usr/lib/python3/dist-packages/torch/_utils.py\u001b[0m in \u001b[0;36mreraise\u001b[0;34m(self)\u001b[0m\n\u001b[1;32m    541\u001b[0m             \u001b[0;31m# instantiate since we don't know how to\u001b[0m\u001b[0;34m\u001b[0m\u001b[0;34m\u001b[0m\u001b[0;34m\u001b[0m\u001b[0m\n\u001b[1;32m    542\u001b[0m             \u001b[0;32mraise\u001b[0m \u001b[0mRuntimeError\u001b[0m\u001b[0;34m(\u001b[0m\u001b[0mmsg\u001b[0m\u001b[0;34m)\u001b[0m \u001b[0;32mfrom\u001b[0m \u001b[0;32mNone\u001b[0m\u001b[0;34m\u001b[0m\u001b[0;34m\u001b[0m\u001b[0m\n\u001b[0;32m--> 543\u001b[0;31m         \u001b[0;32mraise\u001b[0m \u001b[0mexception\u001b[0m\u001b[0;34m\u001b[0m\u001b[0;34m\u001b[0m\u001b[0m\n\u001b[0m\u001b[1;32m    544\u001b[0m \u001b[0;34m\u001b[0m\u001b[0m\n\u001b[1;32m    545\u001b[0m \u001b[0;34m\u001b[0m\u001b[0m\n",
      "\u001b[0;31mFileNotFoundError\u001b[0m: Caught FileNotFoundError in DataLoader worker process 1.\nOriginal Traceback (most recent call last):\n  File \"/usr/lib/python3/dist-packages/torch/utils/data/_utils/worker.py\", line 302, in _worker_loop\n    data = fetcher.fetch(index)\n  File \"/usr/lib/python3/dist-packages/torch/utils/data/_utils/fetch.py\", line 58, in fetch\n    data = [self.dataset[idx] for idx in possibly_batched_index]\n  File \"/usr/lib/python3/dist-packages/torch/utils/data/_utils/fetch.py\", line 58, in <listcomp>\n    data = [self.dataset[idx] for idx in possibly_batched_index]\n  File \"<ipython-input-71-d22db7fbde65>\", line 40, in __getitem__\n    image_tensor = image_transform(Image.open(path)).unsqueeze(0)\n  File \"/usr/lib/python3/dist-packages/PIL/Image.py\", line 2809, in open\n    fp = builtins.open(filename, \"rb\")\nFileNotFoundError: [Errno 2] No such file or directory: '/home/ubuntu/Balene_DS_V1/images/170px-Stiftskirche_stuttgart.jpg.jpg'\n"
     ]
    }
   ],
   "source": [
    "for epoch in range(100):\n",
    "  print(f\"\\n epoch {epoch}\")\n",
    "  model.train()\n",
    "\n",
    "  write_search_scores()\n",
    "    \n",
    "  for i, batch in enumerate(dl):\n",
    "\n",
    "    seq_1, seq_2 = batch\n",
    "    (img_1, tok_1), (img_2, tok_2) = seq_1, seq_2\n",
    "    img_1, tok_1, img_2, tok_2 = img_1.to(device), tok_1.to(device), img_2.to(device), tok_2.to(device)\n",
    "\n",
    "    out_1, out_2 = model(img_1, tok_1), model(img_2, tok_2)\n",
    "\n",
    "    similarity_matrix = out_1 @ out_2.T\n",
    "    label = torch.eye(similarity_matrix.shape[0]).to(device)\n",
    "\n",
    "    loss = criterion(similarity_matrix, label)\n",
    "    run[\"train/loss\"].append(loss.item())\n",
    "\n",
    "    loss.backward()\n",
    "\n",
    "    optim.step()\n",
    "\n",
    "    optim.zero_grad()\n",
    "    \n",
    "    print(\".\",end='')\n"
   ]
  },
  {
   "cell_type": "code",
   "execution_count": 25,
   "metadata": {
    "colab": {
     "base_uri": "https://localhost:8080/"
    },
    "id": "GInLREc6LpZx",
    "outputId": "37c88f9d-ecb9-4f71-96c0-d77d81772e01"
   },
   "outputs": [
    {
     "name": "stdout",
     "output_type": "stream",
     "text": [
      "Shutting down background jobs, please wait a moment...\n",
      "Done!\n",
      "All 0 operations synced, thanks for waiting!\n",
      "Explore the metadata in the Neptune app:\n",
      "https://app.neptune.ai/cjryanwashere/Search-Engine/e/SEARCH-6/metadata\n"
     ]
    }
   ],
   "source": [
    "run.stop()"
   ]
  }
 ],
 "metadata": {
  "accelerator": "GPU",
  "colab": {
   "gpuType": "T4",
   "provenance": []
  },
  "gpuClass": "standard",
  "kernelspec": {
   "display_name": "Python 3",
   "language": "python",
   "name": "python3"
  },
  "language_info": {
   "codemirror_mode": {
    "name": "ipython",
    "version": 3
   },
   "file_extension": ".py",
   "mimetype": "text/x-python",
   "name": "python",
   "nbconvert_exporter": "python",
   "pygments_lexer": "ipython3",
   "version": "3.8.10"
  },
  "widgets": {
   "application/vnd.jupyter.widget-state+json": {
    "1433bbf144d042bfa60f7e2a9fddab1b": {
     "model_module": "@jupyter-widgets/controls",
     "model_module_version": "1.5.0",
     "model_name": "ProgressStyleModel",
     "state": {
      "_model_module": "@jupyter-widgets/controls",
      "_model_module_version": "1.5.0",
      "_model_name": "ProgressStyleModel",
      "_view_count": null,
      "_view_module": "@jupyter-widgets/base",
      "_view_module_version": "1.2.0",
      "_view_name": "StyleView",
      "bar_color": null,
      "description_width": ""
     }
    },
    "1d7fda17809e4b9e9202c551d0abe408": {
     "model_module": "@jupyter-widgets/base",
     "model_module_version": "1.2.0",
     "model_name": "LayoutModel",
     "state": {
      "_model_module": "@jupyter-widgets/base",
      "_model_module_version": "1.2.0",
      "_model_name": "LayoutModel",
      "_view_count": null,
      "_view_module": "@jupyter-widgets/base",
      "_view_module_version": "1.2.0",
      "_view_name": "LayoutView",
      "align_content": null,
      "align_items": null,
      "align_self": null,
      "border": null,
      "bottom": null,
      "display": null,
      "flex": null,
      "flex_flow": null,
      "grid_area": null,
      "grid_auto_columns": null,
      "grid_auto_flow": null,
      "grid_auto_rows": null,
      "grid_column": null,
      "grid_gap": null,
      "grid_row": null,
      "grid_template_areas": null,
      "grid_template_columns": null,
      "grid_template_rows": null,
      "height": null,
      "justify_content": null,
      "justify_items": null,
      "left": null,
      "margin": null,
      "max_height": null,
      "max_width": null,
      "min_height": null,
      "min_width": null,
      "object_fit": null,
      "object_position": null,
      "order": null,
      "overflow": null,
      "overflow_x": null,
      "overflow_y": null,
      "padding": null,
      "right": null,
      "top": null,
      "visibility": null,
      "width": null
     }
    },
    "1d9bddb4021e44879e12b54e3c64f8ea": {
     "model_module": "@jupyter-widgets/controls",
     "model_module_version": "1.5.0",
     "model_name": "FloatProgressModel",
     "state": {
      "_dom_classes": [],
      "_model_module": "@jupyter-widgets/controls",
      "_model_module_version": "1.5.0",
      "_model_name": "FloatProgressModel",
      "_view_count": null,
      "_view_module": "@jupyter-widgets/controls",
      "_view_module_version": "1.5.0",
      "_view_name": "ProgressView",
      "bar_style": "success",
      "description": "",
      "description_tooltip": null,
      "layout": "IPY_MODEL_5f3f3f39425a4c90871e6a7079ea8aee",
      "max": 28,
      "min": 0,
      "orientation": "horizontal",
      "style": "IPY_MODEL_401f0063d52745dfbc470e1660eebc7c",
      "value": 28
     }
    },
    "27661dd81cf542e1b63294fda194039c": {
     "model_module": "@jupyter-widgets/base",
     "model_module_version": "1.2.0",
     "model_name": "LayoutModel",
     "state": {
      "_model_module": "@jupyter-widgets/base",
      "_model_module_version": "1.2.0",
      "_model_name": "LayoutModel",
      "_view_count": null,
      "_view_module": "@jupyter-widgets/base",
      "_view_module_version": "1.2.0",
      "_view_name": "LayoutView",
      "align_content": null,
      "align_items": null,
      "align_self": null,
      "border": null,
      "bottom": null,
      "display": null,
      "flex": null,
      "flex_flow": null,
      "grid_area": null,
      "grid_auto_columns": null,
      "grid_auto_flow": null,
      "grid_auto_rows": null,
      "grid_column": null,
      "grid_gap": null,
      "grid_row": null,
      "grid_template_areas": null,
      "grid_template_columns": null,
      "grid_template_rows": null,
      "height": null,
      "justify_content": null,
      "justify_items": null,
      "left": null,
      "margin": null,
      "max_height": null,
      "max_width": null,
      "min_height": null,
      "min_width": null,
      "object_fit": null,
      "object_position": null,
      "order": null,
      "overflow": null,
      "overflow_x": null,
      "overflow_y": null,
      "padding": null,
      "right": null,
      "top": null,
      "visibility": null,
      "width": null
     }
    },
    "2f34337d998d4a1ba6195fb712580fcc": {
     "model_module": "@jupyter-widgets/controls",
     "model_module_version": "1.5.0",
     "model_name": "DescriptionStyleModel",
     "state": {
      "_model_module": "@jupyter-widgets/controls",
      "_model_module_version": "1.5.0",
      "_model_name": "DescriptionStyleModel",
      "_view_count": null,
      "_view_module": "@jupyter-widgets/base",
      "_view_module_version": "1.2.0",
      "_view_name": "StyleView",
      "description_width": ""
     }
    },
    "30675ba2182a43a1a181b6989155d3bf": {
     "model_module": "@jupyter-widgets/controls",
     "model_module_version": "1.5.0",
     "model_name": "DescriptionStyleModel",
     "state": {
      "_model_module": "@jupyter-widgets/controls",
      "_model_module_version": "1.5.0",
      "_model_name": "DescriptionStyleModel",
      "_view_count": null,
      "_view_module": "@jupyter-widgets/base",
      "_view_module_version": "1.2.0",
      "_view_name": "StyleView",
      "description_width": ""
     }
    },
    "31b2258f30c441668514273f960d2a5f": {
     "model_module": "@jupyter-widgets/base",
     "model_module_version": "1.2.0",
     "model_name": "LayoutModel",
     "state": {
      "_model_module": "@jupyter-widgets/base",
      "_model_module_version": "1.2.0",
      "_model_name": "LayoutModel",
      "_view_count": null,
      "_view_module": "@jupyter-widgets/base",
      "_view_module_version": "1.2.0",
      "_view_name": "LayoutView",
      "align_content": null,
      "align_items": null,
      "align_self": null,
      "border": null,
      "bottom": null,
      "display": null,
      "flex": null,
      "flex_flow": null,
      "grid_area": null,
      "grid_auto_columns": null,
      "grid_auto_flow": null,
      "grid_auto_rows": null,
      "grid_column": null,
      "grid_gap": null,
      "grid_row": null,
      "grid_template_areas": null,
      "grid_template_columns": null,
      "grid_template_rows": null,
      "height": null,
      "justify_content": null,
      "justify_items": null,
      "left": null,
      "margin": null,
      "max_height": null,
      "max_width": null,
      "min_height": null,
      "min_width": null,
      "object_fit": null,
      "object_position": null,
      "order": null,
      "overflow": null,
      "overflow_x": null,
      "overflow_y": null,
      "padding": null,
      "right": null,
      "top": null,
      "visibility": null,
      "width": null
     }
    },
    "330d04210fca4d38b35a362000203494": {
     "model_module": "@jupyter-widgets/base",
     "model_module_version": "1.2.0",
     "model_name": "LayoutModel",
     "state": {
      "_model_module": "@jupyter-widgets/base",
      "_model_module_version": "1.2.0",
      "_model_name": "LayoutModel",
      "_view_count": null,
      "_view_module": "@jupyter-widgets/base",
      "_view_module_version": "1.2.0",
      "_view_name": "LayoutView",
      "align_content": null,
      "align_items": null,
      "align_self": null,
      "border": null,
      "bottom": null,
      "display": null,
      "flex": null,
      "flex_flow": null,
      "grid_area": null,
      "grid_auto_columns": null,
      "grid_auto_flow": null,
      "grid_auto_rows": null,
      "grid_column": null,
      "grid_gap": null,
      "grid_row": null,
      "grid_template_areas": null,
      "grid_template_columns": null,
      "grid_template_rows": null,
      "height": null,
      "justify_content": null,
      "justify_items": null,
      "left": null,
      "margin": null,
      "max_height": null,
      "max_width": null,
      "min_height": null,
      "min_width": null,
      "object_fit": null,
      "object_position": null,
      "order": null,
      "overflow": null,
      "overflow_x": null,
      "overflow_y": null,
      "padding": null,
      "right": null,
      "top": null,
      "visibility": null,
      "width": null
     }
    },
    "370f40cfda19466f841272aca9e70a94": {
     "model_module": "@jupyter-widgets/controls",
     "model_module_version": "1.5.0",
     "model_name": "HTMLModel",
     "state": {
      "_dom_classes": [],
      "_model_module": "@jupyter-widgets/controls",
      "_model_module_version": "1.5.0",
      "_model_name": "HTMLModel",
      "_view_count": null,
      "_view_module": "@jupyter-widgets/controls",
      "_view_module_version": "1.5.0",
      "_view_name": "HTMLView",
      "description": "",
      "description_tooltip": null,
      "layout": "IPY_MODEL_1d7fda17809e4b9e9202c551d0abe408",
      "placeholder": "​",
      "style": "IPY_MODEL_2f34337d998d4a1ba6195fb712580fcc",
      "value": "Downloading (…)solve/main/vocab.txt: 100%"
     }
    },
    "401f0063d52745dfbc470e1660eebc7c": {
     "model_module": "@jupyter-widgets/controls",
     "model_module_version": "1.5.0",
     "model_name": "ProgressStyleModel",
     "state": {
      "_model_module": "@jupyter-widgets/controls",
      "_model_module_version": "1.5.0",
      "_model_name": "ProgressStyleModel",
      "_view_count": null,
      "_view_module": "@jupyter-widgets/base",
      "_view_module_version": "1.2.0",
      "_view_name": "StyleView",
      "bar_color": null,
      "description_width": ""
     }
    },
    "55058cf13c804054b09895667bac3e56": {
     "model_module": "@jupyter-widgets/controls",
     "model_module_version": "1.5.0",
     "model_name": "HTMLModel",
     "state": {
      "_dom_classes": [],
      "_model_module": "@jupyter-widgets/controls",
      "_model_module_version": "1.5.0",
      "_model_name": "HTMLModel",
      "_view_count": null,
      "_view_module": "@jupyter-widgets/controls",
      "_view_module_version": "1.5.0",
      "_view_name": "HTMLView",
      "description": "",
      "description_tooltip": null,
      "layout": "IPY_MODEL_87749aee4b6940dbb4b27ab53277d754",
      "placeholder": "​",
      "style": "IPY_MODEL_7e20912a794e4989b2b56c3aa56dcdb9",
      "value": " 232k/232k [00:00&lt;00:00, 1.44MB/s]"
     }
    },
    "5f3f3f39425a4c90871e6a7079ea8aee": {
     "model_module": "@jupyter-widgets/base",
     "model_module_version": "1.2.0",
     "model_name": "LayoutModel",
     "state": {
      "_model_module": "@jupyter-widgets/base",
      "_model_module_version": "1.2.0",
      "_model_name": "LayoutModel",
      "_view_count": null,
      "_view_module": "@jupyter-widgets/base",
      "_view_module_version": "1.2.0",
      "_view_name": "LayoutView",
      "align_content": null,
      "align_items": null,
      "align_self": null,
      "border": null,
      "bottom": null,
      "display": null,
      "flex": null,
      "flex_flow": null,
      "grid_area": null,
      "grid_auto_columns": null,
      "grid_auto_flow": null,
      "grid_auto_rows": null,
      "grid_column": null,
      "grid_gap": null,
      "grid_row": null,
      "grid_template_areas": null,
      "grid_template_columns": null,
      "grid_template_rows": null,
      "height": null,
      "justify_content": null,
      "justify_items": null,
      "left": null,
      "margin": null,
      "max_height": null,
      "max_width": null,
      "min_height": null,
      "min_width": null,
      "object_fit": null,
      "object_position": null,
      "order": null,
      "overflow": null,
      "overflow_x": null,
      "overflow_y": null,
      "padding": null,
      "right": null,
      "top": null,
      "visibility": null,
      "width": null
     }
    },
    "6364afcd00714423afc6663335c52620": {
     "model_module": "@jupyter-widgets/controls",
     "model_module_version": "1.5.0",
     "model_name": "HTMLModel",
     "state": {
      "_dom_classes": [],
      "_model_module": "@jupyter-widgets/controls",
      "_model_module_version": "1.5.0",
      "_model_name": "HTMLModel",
      "_view_count": null,
      "_view_module": "@jupyter-widgets/controls",
      "_view_module_version": "1.5.0",
      "_view_name": "HTMLView",
      "description": "",
      "description_tooltip": null,
      "layout": "IPY_MODEL_dfd8df5c87bd4a32889319a6a11c3cff",
      "placeholder": "​",
      "style": "IPY_MODEL_c34de87e705642d0bee146c5ad0e9f52",
      "value": "Downloading (…)lve/main/config.json: 100%"
     }
    },
    "659f2d7fc14d46acb0772aa071781fe9": {
     "model_module": "@jupyter-widgets/controls",
     "model_module_version": "1.5.0",
     "model_name": "FloatProgressModel",
     "state": {
      "_dom_classes": [],
      "_model_module": "@jupyter-widgets/controls",
      "_model_module_version": "1.5.0",
      "_model_name": "FloatProgressModel",
      "_view_count": null,
      "_view_module": "@jupyter-widgets/controls",
      "_view_module_version": "1.5.0",
      "_view_name": "ProgressView",
      "bar_style": "success",
      "description": "",
      "description_tooltip": null,
      "layout": "IPY_MODEL_31b2258f30c441668514273f960d2a5f",
      "max": 570,
      "min": 0,
      "orientation": "horizontal",
      "style": "IPY_MODEL_e167673abc8e4c749115b8dc69473541",
      "value": 570
     }
    },
    "6e601295855f4b42a5dc18dac6bc01ad": {
     "model_module": "@jupyter-widgets/controls",
     "model_module_version": "1.5.0",
     "model_name": "DescriptionStyleModel",
     "state": {
      "_model_module": "@jupyter-widgets/controls",
      "_model_module_version": "1.5.0",
      "_model_name": "DescriptionStyleModel",
      "_view_count": null,
      "_view_module": "@jupyter-widgets/base",
      "_view_module_version": "1.2.0",
      "_view_name": "StyleView",
      "description_width": ""
     }
    },
    "7e20912a794e4989b2b56c3aa56dcdb9": {
     "model_module": "@jupyter-widgets/controls",
     "model_module_version": "1.5.0",
     "model_name": "DescriptionStyleModel",
     "state": {
      "_model_module": "@jupyter-widgets/controls",
      "_model_module_version": "1.5.0",
      "_model_name": "DescriptionStyleModel",
      "_view_count": null,
      "_view_module": "@jupyter-widgets/base",
      "_view_module_version": "1.2.0",
      "_view_name": "StyleView",
      "description_width": ""
     }
    },
    "87749aee4b6940dbb4b27ab53277d754": {
     "model_module": "@jupyter-widgets/base",
     "model_module_version": "1.2.0",
     "model_name": "LayoutModel",
     "state": {
      "_model_module": "@jupyter-widgets/base",
      "_model_module_version": "1.2.0",
      "_model_name": "LayoutModel",
      "_view_count": null,
      "_view_module": "@jupyter-widgets/base",
      "_view_module_version": "1.2.0",
      "_view_name": "LayoutView",
      "align_content": null,
      "align_items": null,
      "align_self": null,
      "border": null,
      "bottom": null,
      "display": null,
      "flex": null,
      "flex_flow": null,
      "grid_area": null,
      "grid_auto_columns": null,
      "grid_auto_flow": null,
      "grid_auto_rows": null,
      "grid_column": null,
      "grid_gap": null,
      "grid_row": null,
      "grid_template_areas": null,
      "grid_template_columns": null,
      "grid_template_rows": null,
      "height": null,
      "justify_content": null,
      "justify_items": null,
      "left": null,
      "margin": null,
      "max_height": null,
      "max_width": null,
      "min_height": null,
      "min_width": null,
      "object_fit": null,
      "object_position": null,
      "order": null,
      "overflow": null,
      "overflow_x": null,
      "overflow_y": null,
      "padding": null,
      "right": null,
      "top": null,
      "visibility": null,
      "width": null
     }
    },
    "884d971db3a8454da5fdcbbedb65e662": {
     "model_module": "@jupyter-widgets/controls",
     "model_module_version": "1.5.0",
     "model_name": "HBoxModel",
     "state": {
      "_dom_classes": [],
      "_model_module": "@jupyter-widgets/controls",
      "_model_module_version": "1.5.0",
      "_model_name": "HBoxModel",
      "_view_count": null,
      "_view_module": "@jupyter-widgets/controls",
      "_view_module_version": "1.5.0",
      "_view_name": "HBoxView",
      "box_style": "",
      "children": [
       "IPY_MODEL_370f40cfda19466f841272aca9e70a94",
       "IPY_MODEL_f89e6d7659f2498f9f8cc708ffb27fea",
       "IPY_MODEL_55058cf13c804054b09895667bac3e56"
      ],
      "layout": "IPY_MODEL_330d04210fca4d38b35a362000203494"
     }
    },
    "8b7051971b6d4ca59dc399926fd1ed5d": {
     "model_module": "@jupyter-widgets/base",
     "model_module_version": "1.2.0",
     "model_name": "LayoutModel",
     "state": {
      "_model_module": "@jupyter-widgets/base",
      "_model_module_version": "1.2.0",
      "_model_name": "LayoutModel",
      "_view_count": null,
      "_view_module": "@jupyter-widgets/base",
      "_view_module_version": "1.2.0",
      "_view_name": "LayoutView",
      "align_content": null,
      "align_items": null,
      "align_self": null,
      "border": null,
      "bottom": null,
      "display": null,
      "flex": null,
      "flex_flow": null,
      "grid_area": null,
      "grid_auto_columns": null,
      "grid_auto_flow": null,
      "grid_auto_rows": null,
      "grid_column": null,
      "grid_gap": null,
      "grid_row": null,
      "grid_template_areas": null,
      "grid_template_columns": null,
      "grid_template_rows": null,
      "height": null,
      "justify_content": null,
      "justify_items": null,
      "left": null,
      "margin": null,
      "max_height": null,
      "max_width": null,
      "min_height": null,
      "min_width": null,
      "object_fit": null,
      "object_position": null,
      "order": null,
      "overflow": null,
      "overflow_x": null,
      "overflow_y": null,
      "padding": null,
      "right": null,
      "top": null,
      "visibility": null,
      "width": null
     }
    },
    "9d2ea907063f459599a9c9a513038b05": {
     "model_module": "@jupyter-widgets/controls",
     "model_module_version": "1.5.0",
     "model_name": "HBoxModel",
     "state": {
      "_dom_classes": [],
      "_model_module": "@jupyter-widgets/controls",
      "_model_module_version": "1.5.0",
      "_model_name": "HBoxModel",
      "_view_count": null,
      "_view_module": "@jupyter-widgets/controls",
      "_view_module_version": "1.5.0",
      "_view_name": "HBoxView",
      "box_style": "",
      "children": [
       "IPY_MODEL_c44c78be353c4b86a4b82ff85472ee35",
       "IPY_MODEL_1d9bddb4021e44879e12b54e3c64f8ea",
       "IPY_MODEL_f91e22e4af7943cc87389a2758e3d456"
      ],
      "layout": "IPY_MODEL_d0f202749bb0481e9652a74931000455"
     }
    },
    "a616d78fb9d74621b7e1076645688e38": {
     "model_module": "@jupyter-widgets/controls",
     "model_module_version": "1.5.0",
     "model_name": "HBoxModel",
     "state": {
      "_dom_classes": [],
      "_model_module": "@jupyter-widgets/controls",
      "_model_module_version": "1.5.0",
      "_model_name": "HBoxModel",
      "_view_count": null,
      "_view_module": "@jupyter-widgets/controls",
      "_view_module_version": "1.5.0",
      "_view_name": "HBoxView",
      "box_style": "",
      "children": [
       "IPY_MODEL_6364afcd00714423afc6663335c52620",
       "IPY_MODEL_659f2d7fc14d46acb0772aa071781fe9",
       "IPY_MODEL_f57d50928764417cab251d4b251e9903"
      ],
      "layout": "IPY_MODEL_d38cd715b02a4e8cb8281922b6dca2b8"
     }
    },
    "c34de87e705642d0bee146c5ad0e9f52": {
     "model_module": "@jupyter-widgets/controls",
     "model_module_version": "1.5.0",
     "model_name": "DescriptionStyleModel",
     "state": {
      "_model_module": "@jupyter-widgets/controls",
      "_model_module_version": "1.5.0",
      "_model_name": "DescriptionStyleModel",
      "_view_count": null,
      "_view_module": "@jupyter-widgets/base",
      "_view_module_version": "1.2.0",
      "_view_name": "StyleView",
      "description_width": ""
     }
    },
    "c44c78be353c4b86a4b82ff85472ee35": {
     "model_module": "@jupyter-widgets/controls",
     "model_module_version": "1.5.0",
     "model_name": "HTMLModel",
     "state": {
      "_dom_classes": [],
      "_model_module": "@jupyter-widgets/controls",
      "_model_module_version": "1.5.0",
      "_model_name": "HTMLModel",
      "_view_count": null,
      "_view_module": "@jupyter-widgets/controls",
      "_view_module_version": "1.5.0",
      "_view_name": "HTMLView",
      "description": "",
      "description_tooltip": null,
      "layout": "IPY_MODEL_f21d45191cc54df29bd8311e4a2813df",
      "placeholder": "​",
      "style": "IPY_MODEL_6e601295855f4b42a5dc18dac6bc01ad",
      "value": "Downloading (…)okenizer_config.json: 100%"
     }
    },
    "d0f202749bb0481e9652a74931000455": {
     "model_module": "@jupyter-widgets/base",
     "model_module_version": "1.2.0",
     "model_name": "LayoutModel",
     "state": {
      "_model_module": "@jupyter-widgets/base",
      "_model_module_version": "1.2.0",
      "_model_name": "LayoutModel",
      "_view_count": null,
      "_view_module": "@jupyter-widgets/base",
      "_view_module_version": "1.2.0",
      "_view_name": "LayoutView",
      "align_content": null,
      "align_items": null,
      "align_self": null,
      "border": null,
      "bottom": null,
      "display": null,
      "flex": null,
      "flex_flow": null,
      "grid_area": null,
      "grid_auto_columns": null,
      "grid_auto_flow": null,
      "grid_auto_rows": null,
      "grid_column": null,
      "grid_gap": null,
      "grid_row": null,
      "grid_template_areas": null,
      "grid_template_columns": null,
      "grid_template_rows": null,
      "height": null,
      "justify_content": null,
      "justify_items": null,
      "left": null,
      "margin": null,
      "max_height": null,
      "max_width": null,
      "min_height": null,
      "min_width": null,
      "object_fit": null,
      "object_position": null,
      "order": null,
      "overflow": null,
      "overflow_x": null,
      "overflow_y": null,
      "padding": null,
      "right": null,
      "top": null,
      "visibility": null,
      "width": null
     }
    },
    "d38cd715b02a4e8cb8281922b6dca2b8": {
     "model_module": "@jupyter-widgets/base",
     "model_module_version": "1.2.0",
     "model_name": "LayoutModel",
     "state": {
      "_model_module": "@jupyter-widgets/base",
      "_model_module_version": "1.2.0",
      "_model_name": "LayoutModel",
      "_view_count": null,
      "_view_module": "@jupyter-widgets/base",
      "_view_module_version": "1.2.0",
      "_view_name": "LayoutView",
      "align_content": null,
      "align_items": null,
      "align_self": null,
      "border": null,
      "bottom": null,
      "display": null,
      "flex": null,
      "flex_flow": null,
      "grid_area": null,
      "grid_auto_columns": null,
      "grid_auto_flow": null,
      "grid_auto_rows": null,
      "grid_column": null,
      "grid_gap": null,
      "grid_row": null,
      "grid_template_areas": null,
      "grid_template_columns": null,
      "grid_template_rows": null,
      "height": null,
      "justify_content": null,
      "justify_items": null,
      "left": null,
      "margin": null,
      "max_height": null,
      "max_width": null,
      "min_height": null,
      "min_width": null,
      "object_fit": null,
      "object_position": null,
      "order": null,
      "overflow": null,
      "overflow_x": null,
      "overflow_y": null,
      "padding": null,
      "right": null,
      "top": null,
      "visibility": null,
      "width": null
     }
    },
    "d7e94cafb16e47f9aad4431fed5bb7e0": {
     "model_module": "@jupyter-widgets/controls",
     "model_module_version": "1.5.0",
     "model_name": "DescriptionStyleModel",
     "state": {
      "_model_module": "@jupyter-widgets/controls",
      "_model_module_version": "1.5.0",
      "_model_name": "DescriptionStyleModel",
      "_view_count": null,
      "_view_module": "@jupyter-widgets/base",
      "_view_module_version": "1.2.0",
      "_view_name": "StyleView",
      "description_width": ""
     }
    },
    "dfd8df5c87bd4a32889319a6a11c3cff": {
     "model_module": "@jupyter-widgets/base",
     "model_module_version": "1.2.0",
     "model_name": "LayoutModel",
     "state": {
      "_model_module": "@jupyter-widgets/base",
      "_model_module_version": "1.2.0",
      "_model_name": "LayoutModel",
      "_view_count": null,
      "_view_module": "@jupyter-widgets/base",
      "_view_module_version": "1.2.0",
      "_view_name": "LayoutView",
      "align_content": null,
      "align_items": null,
      "align_self": null,
      "border": null,
      "bottom": null,
      "display": null,
      "flex": null,
      "flex_flow": null,
      "grid_area": null,
      "grid_auto_columns": null,
      "grid_auto_flow": null,
      "grid_auto_rows": null,
      "grid_column": null,
      "grid_gap": null,
      "grid_row": null,
      "grid_template_areas": null,
      "grid_template_columns": null,
      "grid_template_rows": null,
      "height": null,
      "justify_content": null,
      "justify_items": null,
      "left": null,
      "margin": null,
      "max_height": null,
      "max_width": null,
      "min_height": null,
      "min_width": null,
      "object_fit": null,
      "object_position": null,
      "order": null,
      "overflow": null,
      "overflow_x": null,
      "overflow_y": null,
      "padding": null,
      "right": null,
      "top": null,
      "visibility": null,
      "width": null
     }
    },
    "e167673abc8e4c749115b8dc69473541": {
     "model_module": "@jupyter-widgets/controls",
     "model_module_version": "1.5.0",
     "model_name": "ProgressStyleModel",
     "state": {
      "_model_module": "@jupyter-widgets/controls",
      "_model_module_version": "1.5.0",
      "_model_name": "ProgressStyleModel",
      "_view_count": null,
      "_view_module": "@jupyter-widgets/base",
      "_view_module_version": "1.2.0",
      "_view_name": "StyleView",
      "bar_color": null,
      "description_width": ""
     }
    },
    "e745efe46f474759b7d7604853543b71": {
     "model_module": "@jupyter-widgets/base",
     "model_module_version": "1.2.0",
     "model_name": "LayoutModel",
     "state": {
      "_model_module": "@jupyter-widgets/base",
      "_model_module_version": "1.2.0",
      "_model_name": "LayoutModel",
      "_view_count": null,
      "_view_module": "@jupyter-widgets/base",
      "_view_module_version": "1.2.0",
      "_view_name": "LayoutView",
      "align_content": null,
      "align_items": null,
      "align_self": null,
      "border": null,
      "bottom": null,
      "display": null,
      "flex": null,
      "flex_flow": null,
      "grid_area": null,
      "grid_auto_columns": null,
      "grid_auto_flow": null,
      "grid_auto_rows": null,
      "grid_column": null,
      "grid_gap": null,
      "grid_row": null,
      "grid_template_areas": null,
      "grid_template_columns": null,
      "grid_template_rows": null,
      "height": null,
      "justify_content": null,
      "justify_items": null,
      "left": null,
      "margin": null,
      "max_height": null,
      "max_width": null,
      "min_height": null,
      "min_width": null,
      "object_fit": null,
      "object_position": null,
      "order": null,
      "overflow": null,
      "overflow_x": null,
      "overflow_y": null,
      "padding": null,
      "right": null,
      "top": null,
      "visibility": null,
      "width": null
     }
    },
    "f21d45191cc54df29bd8311e4a2813df": {
     "model_module": "@jupyter-widgets/base",
     "model_module_version": "1.2.0",
     "model_name": "LayoutModel",
     "state": {
      "_model_module": "@jupyter-widgets/base",
      "_model_module_version": "1.2.0",
      "_model_name": "LayoutModel",
      "_view_count": null,
      "_view_module": "@jupyter-widgets/base",
      "_view_module_version": "1.2.0",
      "_view_name": "LayoutView",
      "align_content": null,
      "align_items": null,
      "align_self": null,
      "border": null,
      "bottom": null,
      "display": null,
      "flex": null,
      "flex_flow": null,
      "grid_area": null,
      "grid_auto_columns": null,
      "grid_auto_flow": null,
      "grid_auto_rows": null,
      "grid_column": null,
      "grid_gap": null,
      "grid_row": null,
      "grid_template_areas": null,
      "grid_template_columns": null,
      "grid_template_rows": null,
      "height": null,
      "justify_content": null,
      "justify_items": null,
      "left": null,
      "margin": null,
      "max_height": null,
      "max_width": null,
      "min_height": null,
      "min_width": null,
      "object_fit": null,
      "object_position": null,
      "order": null,
      "overflow": null,
      "overflow_x": null,
      "overflow_y": null,
      "padding": null,
      "right": null,
      "top": null,
      "visibility": null,
      "width": null
     }
    },
    "f57d50928764417cab251d4b251e9903": {
     "model_module": "@jupyter-widgets/controls",
     "model_module_version": "1.5.0",
     "model_name": "HTMLModel",
     "state": {
      "_dom_classes": [],
      "_model_module": "@jupyter-widgets/controls",
      "_model_module_version": "1.5.0",
      "_model_name": "HTMLModel",
      "_view_count": null,
      "_view_module": "@jupyter-widgets/controls",
      "_view_module_version": "1.5.0",
      "_view_name": "HTMLView",
      "description": "",
      "description_tooltip": null,
      "layout": "IPY_MODEL_8b7051971b6d4ca59dc399926fd1ed5d",
      "placeholder": "​",
      "style": "IPY_MODEL_d7e94cafb16e47f9aad4431fed5bb7e0",
      "value": " 570/570 [00:00&lt;00:00, 30.3kB/s]"
     }
    },
    "f89e6d7659f2498f9f8cc708ffb27fea": {
     "model_module": "@jupyter-widgets/controls",
     "model_module_version": "1.5.0",
     "model_name": "FloatProgressModel",
     "state": {
      "_dom_classes": [],
      "_model_module": "@jupyter-widgets/controls",
      "_model_module_version": "1.5.0",
      "_model_name": "FloatProgressModel",
      "_view_count": null,
      "_view_module": "@jupyter-widgets/controls",
      "_view_module_version": "1.5.0",
      "_view_name": "ProgressView",
      "bar_style": "success",
      "description": "",
      "description_tooltip": null,
      "layout": "IPY_MODEL_27661dd81cf542e1b63294fda194039c",
      "max": 231508,
      "min": 0,
      "orientation": "horizontal",
      "style": "IPY_MODEL_1433bbf144d042bfa60f7e2a9fddab1b",
      "value": 231508
     }
    },
    "f91e22e4af7943cc87389a2758e3d456": {
     "model_module": "@jupyter-widgets/controls",
     "model_module_version": "1.5.0",
     "model_name": "HTMLModel",
     "state": {
      "_dom_classes": [],
      "_model_module": "@jupyter-widgets/controls",
      "_model_module_version": "1.5.0",
      "_model_name": "HTMLModel",
      "_view_count": null,
      "_view_module": "@jupyter-widgets/controls",
      "_view_module_version": "1.5.0",
      "_view_name": "HTMLView",
      "description": "",
      "description_tooltip": null,
      "layout": "IPY_MODEL_e745efe46f474759b7d7604853543b71",
      "placeholder": "​",
      "style": "IPY_MODEL_30675ba2182a43a1a181b6989155d3bf",
      "value": " 28.0/28.0 [00:00&lt;00:00, 1.25kB/s]"
     }
    }
   }
  }
 },
 "nbformat": 4,
 "nbformat_minor": 1
}
